{
 "cells": [
  {
   "cell_type": "markdown",
   "id": "525af996",
   "metadata": {},
   "source": [
    "- Q1, Create a vehicle class with an init method having instance variables as name_of_vehicle, max_speed\n",
    "and average_of_vehicle."
   ]
  },
  {
   "cell_type": "code",
   "execution_count": 2,
   "id": "2a0cc546",
   "metadata": {},
   "outputs": [],
   "source": [
    "class Vehicle:\n",
    "    def __init__(self, name_of_vehicle, max_speed, average_of_vehicle):\n",
    "        self.name_of_vehicle = name_of_vehicle\n",
    "        self.max_speed = max_speed\n",
    "        self.average_of_vehicle = average_of_vehicle"
   ]
  },
  {
   "cell_type": "code",
   "execution_count": 3,
   "id": "7e570bfb",
   "metadata": {},
   "outputs": [],
   "source": [
    "my_car = Vehicle(\"Tesla\", 250, 30)"
   ]
  },
  {
   "cell_type": "markdown",
   "id": "8f7f948c",
   "metadata": {},
   "source": [
    "- Q2. Create a child class car from the vehicle class created in Que 1, which will inherit the vehicle class.\n",
    "Create a method named seating_capacity which takes capacity as an argument and returns the name of\n",
    "the vehicle and its seating capacity."
   ]
  },
  {
   "cell_type": "code",
   "execution_count": 5,
   "id": "950122e7",
   "metadata": {},
   "outputs": [],
   "source": [
    "class Car(Vehicle):\n",
    "    def __init__(self, name_of_vehicle, max_speed, average_of_vehicle):\n",
    "        super().__init__(name_of_vehicle, max_speed, average_of_vehicle)\n",
    "\n",
    "    def seating_capacity(self, capacity):\n",
    "        return f\"{self.name_of_vehicle} has a seating capacity of {capacity} passengers.\""
   ]
  },
  {
   "cell_type": "code",
   "execution_count": 6,
   "id": "3833bbdc",
   "metadata": {},
   "outputs": [
    {
     "name": "stdout",
     "output_type": "stream",
     "text": [
      "Tesla has a seating capacity of 5 passengers.\n"
     ]
    }
   ],
   "source": [
    "my_car = Car(\"Tesla\", 250, 30)\n",
    "print(my_car.seating_capacity(5))"
   ]
  },
  {
   "cell_type": "markdown",
   "id": "d528423d",
   "metadata": {},
   "source": [
    "- Q3. What is multiple inheritance? Write a python code to demonstrate multiple inheritance."
   ]
  },
  {
   "cell_type": "markdown",
   "id": "57b1dcd4",
   "metadata": {},
   "source": [
    "Multiple inheritance is a feature in object-oriented programming where a subclass can inherit from multiple parent classes. This allows the subclass to have the combined features and behaviors of all the parent classes.\n",
    "\n",
    "Here's an example Python code to demonstrate multiple inheritance:"
   ]
  },
  {
   "cell_type": "code",
   "execution_count": 8,
   "id": "daec36c6",
   "metadata": {},
   "outputs": [],
   "source": [
    "class Animal:\n",
    "    def __init__(self, name):\n",
    "        self.name = name\n",
    "\n",
    "    def eat(self):\n",
    "        print(f\"{self.name} is eating.\")\n",
    "\n",
    "class Flyable:\n",
    "    def fly(self):\n",
    "        print(f\"{self.name} is flying.\")\n",
    "\n",
    "class Bird(Animal, Flyable):\n",
    "    def __init__(self, name):\n",
    "        super().__init__(name)\n",
    "\n",
    "    def chirp(self):\n",
    "        print(f\"{self.name} is chirping.\")"
   ]
  },
  {
   "cell_type": "code",
   "execution_count": 9,
   "id": "0d8d0d82",
   "metadata": {},
   "outputs": [
    {
     "name": "stdout",
     "output_type": "stream",
     "text": [
      "Sparrow is eating.\n",
      "Sparrow is flying.\n",
      "Sparrow is chirping.\n"
     ]
    }
   ],
   "source": [
    "my_bird = Bird(\"Sparrow\")\n",
    "my_bird.eat()\n",
    "my_bird.fly()\n",
    "my_bird.chirp()"
   ]
  },
  {
   "cell_type": "markdown",
   "id": "0312ee19",
   "metadata": {},
   "source": [
    "- Q4. What are getter and setter in python? Create a class and create a getter and a setter method in this\n",
    "class."
   ]
  },
  {
   "cell_type": "markdown",
   "id": "202eda31",
   "metadata": {},
   "source": [
    "In Python, getters and setters are methods that allow you to get and set the values of instance variables in a class. Getters retrieve the value of an instance variable, while setters set the value of an instance variable.\n",
    "\n",
    "Here's an example of a Python class with getter and setter methods:"
   ]
  },
  {
   "cell_type": "code",
   "execution_count": 11,
   "id": "0622acc3",
   "metadata": {},
   "outputs": [],
   "source": [
    "class Person:\n",
    "    def __init__(self, name, age):\n",
    "        self._name = name\n",
    "        self._age = age\n",
    "\n",
    "    def get_name(self):\n",
    "        return self._name\n",
    "\n",
    "    def set_name(self, name):\n",
    "        self._name = name\n",
    "\n",
    "    def get_age(self):\n",
    "        return self._age\n",
    "\n",
    "    def set_age(self, age):\n",
    "        self._age = age"
   ]
  },
  {
   "cell_type": "code",
   "execution_count": 12,
   "id": "a0d1e5ed",
   "metadata": {},
   "outputs": [
    {
     "name": "stdout",
     "output_type": "stream",
     "text": [
      "John\n",
      "Jane\n"
     ]
    }
   ],
   "source": [
    "person1 = Person(\"John\", 30)\n",
    "print(person1.get_name())  \n",
    "person1.set_name(\"Jane\")\n",
    "print(person1.get_name())  "
   ]
  },
  {
   "cell_type": "markdown",
   "id": "49bb4619",
   "metadata": {},
   "source": [
    "- Q5.What is method overriding in python? Write a python code to demonstrate method overriding.\n",
    "\n",
    "\n",
    "Method overriding is a feature in object-oriented programming where a subclass can provide its own implementation of a method that is already defined in its parent class. This allows the subclass to modify or extend the behavior of the parent class's method.\n",
    "\n",
    "Here's an example Python code to demonstrate method overriding:"
   ]
  },
  {
   "cell_type": "code",
   "execution_count": 13,
   "id": "ed58caa8",
   "metadata": {},
   "outputs": [],
   "source": [
    "class Animal:\n",
    "    def speak(self):\n",
    "        print(\"The animal speaks.\")\n",
    "\n",
    "class Cat(Animal):\n",
    "    def speak(self):\n",
    "        print(\"The cat meows.\")\n",
    "\n",
    "class Dog(Animal):\n",
    "    def speak(self):\n",
    "        print(\"The dog barks.\")"
   ]
  },
  {
   "cell_type": "code",
   "execution_count": 14,
   "id": "0c68937b",
   "metadata": {},
   "outputs": [
    {
     "name": "stdout",
     "output_type": "stream",
     "text": [
      "The cat meows.\n",
      "The dog barks.\n"
     ]
    }
   ],
   "source": [
    "my_cat = Cat()\n",
    "my_cat.speak()  \n",
    "\n",
    "my_dog = Dog()\n",
    "my_dog.speak() \n"
   ]
  },
  {
   "cell_type": "code",
   "execution_count": null,
   "id": "5ac31264",
   "metadata": {},
   "outputs": [],
   "source": []
  }
 ],
 "metadata": {
  "kernelspec": {
   "display_name": "Python 3 (ipykernel)",
   "language": "python",
   "name": "python3"
  },
  "language_info": {
   "codemirror_mode": {
    "name": "ipython",
    "version": 3
   },
   "file_extension": ".py",
   "mimetype": "text/x-python",
   "name": "python",
   "nbconvert_exporter": "python",
   "pygments_lexer": "ipython3",
   "version": "3.10.8"
  }
 },
 "nbformat": 4,
 "nbformat_minor": 5
}
