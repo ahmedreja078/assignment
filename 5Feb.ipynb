{
 "cells": [
  {
   "cell_type": "markdown",
   "id": "fab51be6",
   "metadata": {},
   "source": [
    "- Q1. Explain Class and Object with respect to Object-Oriented Programming. Give a suitable example."
   ]
  },
  {
   "cell_type": "markdown",
   "id": "aed66020",
   "metadata": {},
   "source": [
    "Object-oriented programming (OOP) is a programming paradigm that emphasizes the use of classes and objects to organize and structure code. A class is a blueprint or template for creating objects, while an object is an instance of a class that contains data and methods.\n",
    "\n",
    "In Python, a class is defined using the class keyword, followed by the class name, and a colon. The attributes of the class are defined inside the class block. Methods are functions defined inside a class.\n",
    "\n",
    "Here is an example of a Python class representing a rectangle:"
   ]
  },
  {
   "cell_type": "code",
   "execution_count": 2,
   "id": "d05dc83a",
   "metadata": {},
   "outputs": [],
   "source": [
    "class Rectangle:\n",
    "    def __init__(self, width, height):\n",
    "        self.width = width\n",
    "        self.height = height\n",
    "    \n",
    "    def area(self):\n",
    "        return self.width * self.height\n",
    "    \n",
    "    def perimeter(self):\n",
    "        return 2 * (self.width + self.height)"
   ]
  },
  {
   "cell_type": "code",
   "execution_count": 4,
   "id": "c05a7e81",
   "metadata": {},
   "outputs": [],
   "source": [
    "rectangle1 = Rectangle(10, 20)\n",
    "rectangle2 = Rectangle(5, 15)"
   ]
  },
  {
   "cell_type": "code",
   "execution_count": 6,
   "id": "16be4399",
   "metadata": {},
   "outputs": [
    {
     "name": "stdout",
     "output_type": "stream",
     "text": [
      "10\n",
      "20\n",
      "200\n",
      "60\n"
     ]
    }
   ],
   "source": [
    "print(rectangle1.width) \n",
    "print(rectangle1.height) \n",
    "print(rectangle1.area()) \n",
    "print(rectangle1.perimeter()) "
   ]
  },
  {
   "cell_type": "markdown",
   "id": "42304783",
   "metadata": {},
   "source": [
    "Q2. Name the four pillars of OOPs."
   ]
  },
  {
   "cell_type": "markdown",
   "id": "0f4ac6a1",
   "metadata": {},
   "source": [
    "The four pillars of Object-Oriented Programming (OOP) are the same in Python as in any other OOP language:\n",
    "\n",
    "Encapsulation: \n",
    "Encapsulation is achieved in Python through the use of access modifiers and properties. The convention in Python is to use a single underscore prefix for attributes that should be considered private and two underscores for name mangling. Python does not have explicit support for protected access, but this convention is commonly used to denote that an attribute or method should be considered protected.\n",
    "\n",
    "Abstraction: \n",
    "Abstraction is achieved in Python through the use of abstract classes and interfaces. Python does not have a built-in interface keyword, but interfaces can be implemented using abstract classes with abstract methods that must be implemented by subclasses.\n",
    "\n",
    "Inheritance: \n",
    "Inheritance is achieved in Python using the same syntax as other OOP languages. Classes can inherit from a single superclass using the class SubClass(SuperClass): syntax. Multiple inheritance is also supported in Python, where a class can inherit from multiple superclasses using the class SubClass(SuperClass1, SuperClass2, ...): syntax.\n",
    "\n",
    "Polymorphism:\n",
    "Polymorphism is achieved in Python through the use of method overloading and method overriding. Method overloading is not supported in Python, but it can be simulated using default arguments and variable-length argument lists. Method overriding is achieved in the same way as other OOP languages, by defining a method in a subclass with the same name and signature as a method in the superclass.\n",
    "\n",
    "In summary, Python supports the same four pillars of OOP as other OOP languages, and provides similar features and syntax for achieving each pillar."
   ]
  },
  {
   "cell_type": "markdown",
   "id": "0e47b13a",
   "metadata": {},
   "source": [
    "- Q3. Explain why the __init__() function is used. Give a suitable example"
   ]
  },
  {
   "cell_type": "markdown",
   "id": "eb36163b",
   "metadata": {},
   "source": [
    "The __init__() function is a special method in Python classes that is used as a constructor for objects of that class. It is called when an object of the class is created, and is used to initialize the attributes of the object with default or user-specified values.\n",
    "\n",
    "The __init__() method is optional, but it is commonly used to set up an object's initial state, which can include initializing attributes, setting default values, and performing any other necessary setup tasks.\n",
    "\n",
    "Here's an example to illustrate the use of the __init__() method:"
   ]
  },
  {
   "cell_type": "code",
   "execution_count": 7,
   "id": "5815eb50",
   "metadata": {},
   "outputs": [
    {
     "name": "stdout",
     "output_type": "stream",
     "text": [
      "Hello, my name is Alice and I'm 25 years old.\n",
      "Hello, my name is Bob and I'm 30 years old.\n"
     ]
    }
   ],
   "source": [
    "class Person:\n",
    "    def __init__(self, name, age):\n",
    "        self.name = name\n",
    "        self.age = age\n",
    "\n",
    "    def greet(self):\n",
    "        print(f\"Hello, my name is {self.name} and I'm {self.age} years old.\")\n",
    "\n",
    "person1 = Person(\"Alice\", 25)\n",
    "person2 = Person(\"Bob\", 30)\n",
    "\n",
    "person1.greet()\n",
    "person2.greet()"
   ]
  },
  {
   "cell_type": "markdown",
   "id": "7b777041",
   "metadata": {},
   "source": [
    "- Q4.Why self is used in OOPs?"
   ]
  },
  {
   "cell_type": "markdown",
   "id": "b1ead129",
   "metadata": {},
   "source": [
    "In Object-Oriented Programming (OOP), self is used to refer to the instance of a class, which is an object created from that class. It is a convention in Python to use self as the first parameter of instance methods, but other OOP languages may use different names such as this or me.\n",
    "\n",
    "When a method is called on an object, the object itself is passed to the method as the first argument (i.e., self). This allows the method to access the object's attributes and methods, and modify the object's state as necessary.\n",
    "\n",
    "For example, consider the following Person class:"
   ]
  },
  {
   "cell_type": "code",
   "execution_count": 9,
   "id": "d67feba8",
   "metadata": {},
   "outputs": [
    {
     "name": "stdout",
     "output_type": "stream",
     "text": [
      "Hello, my name is Alice.\n"
     ]
    }
   ],
   "source": [
    "class Person:\n",
    "    def __init__(self, name):\n",
    "        self.name = name\n",
    "\n",
    "    def greet(self):\n",
    "        print(f\"Hello, my name is {self.name}.\")\n",
    "\n",
    "person = Person(\"Alice\")\n",
    "person.greet()"
   ]
  },
  {
   "cell_type": "markdown",
   "id": "c06adf6f",
   "metadata": {},
   "source": [
    "- Q5. What is inheritance? Give an example for each type of inheritance"
   ]
  },
  {
   "cell_type": "markdown",
   "id": "556af7bc",
   "metadata": {},
   "source": [
    "Inheritance is a fundamental concept in object-oriented programming that allows one class to inherit properties and behavior from another class. The class that is being inherited from is called the parent or superclass, and the class that is inheriting those properties and behavior is called the child or subclass.\n",
    "\n",
    "There are four main types of inheritance in Python:\n",
    "\n",
    "Single inheritance: In single inheritance, a child class inherits properties and behavior from a single parent class."
   ]
  },
  {
   "cell_type": "code",
   "execution_count": 10,
   "id": "a2ca17ad",
   "metadata": {},
   "outputs": [
    {
     "name": "stdout",
     "output_type": "stream",
     "text": [
      "Buddy\n",
      "Dog\n",
      "Golden Retriever\n",
      "Woof!\n"
     ]
    }
   ],
   "source": [
    "class Animal:\n",
    "    def __init__(self, name, species):\n",
    "        self.name = name\n",
    "        self.species = species\n",
    "\n",
    "    def make_sound(self):\n",
    "        pass\n",
    "\n",
    "class Dog(Animal):\n",
    "    def __init__(self, name, breed):\n",
    "        super().__init__(name, species=\"Dog\")\n",
    "        self.breed = breed\n",
    "\n",
    "    def make_sound(self):\n",
    "        return \"Woof!\"\n",
    "\n",
    "dog = Dog(\"Buddy\", \"Golden Retriever\")\n",
    "print(dog.name)      \n",
    "print(dog.species)   \n",
    "print(dog.breed)     \n",
    "print(dog.make_sound())  \n"
   ]
  },
  {
   "cell_type": "markdown",
   "id": "d76bff6b",
   "metadata": {},
   "source": [
    "Multiple inheritance: In multiple inheritance, a child class inherits properties and behavior from multiple parent classes."
   ]
  },
  {
   "cell_type": "code",
   "execution_count": 11,
   "id": "45df37a4",
   "metadata": {},
   "outputs": [
    {
     "name": "stdout",
     "output_type": "stream",
     "text": [
      "I'm flying!\n",
      "I'm swimming!\n"
     ]
    }
   ],
   "source": [
    "class Flyer:\n",
    "    def fly(self):\n",
    "        return \"I'm flying!\"\n",
    "\n",
    "class Swimmer:\n",
    "    def swim(self):\n",
    "        return \"I'm swimming!\"\n",
    "\n",
    "class Amphibian(Flyer, Swimmer):\n",
    "    pass\n",
    "\n",
    "frog = Amphibian()\n",
    "print(frog.fly())  \n",
    "print(frog.swim())  \n"
   ]
  },
  {
   "cell_type": "markdown",
   "id": "163991b5",
   "metadata": {},
   "source": [
    "Hierarchical inheritance: In hierarchical inheritance, multiple child classes inherit properties and behavior from a single parent class."
   ]
  },
  {
   "cell_type": "code",
   "execution_count": 14,
   "id": "3e10d28c",
   "metadata": {},
   "outputs": [
    {
     "name": "stdout",
     "output_type": "stream",
     "text": [
      "Honda\n",
      "Civic\n",
      "I'm driving!\n",
      "Beep beep!\n",
      "Ford\n",
      "F-150\n",
      "I'm driving!\n",
      "I'm loading 5 tons of cargo.\n"
     ]
    }
   ],
   "source": [
    "class Vehicle:\n",
    "    def __init__(self, make, model):\n",
    "        self.make = make\n",
    "        self.model = model\n",
    "\n",
    "    def drive(self):\n",
    "        return \"I'm driving!\"\n",
    "\n",
    "class Car(Vehicle):\n",
    "    def honk(self):\n",
    "        return \"Beep beep!\"\n",
    "\n",
    "class Truck(Vehicle):\n",
    "    def load(self, weight):\n",
    "        return f\"I'm loading {weight} tons of cargo.\"\n",
    "\n",
    "car = Car(\"Honda\", \"Civic\")\n",
    "print(car.make)  \n",
    "print(car.model)\n",
    "print(car.drive()) \n",
    "print(car.honk())  \n",
    "truck = Truck(\"Ford\", \"F-150\")\n",
    "print(truck.make)    \n",
    "print(truck.model) \n",
    "print(truck.drive())\n",
    "print(truck.load(5))"
   ]
  },
  {
   "cell_type": "code",
   "execution_count": null,
   "id": "12477c1f",
   "metadata": {},
   "outputs": [],
   "source": []
  }
 ],
 "metadata": {
  "kernelspec": {
   "display_name": "Python 3 (ipykernel)",
   "language": "python",
   "name": "python3"
  },
  "language_info": {
   "codemirror_mode": {
    "name": "ipython",
    "version": 3
   },
   "file_extension": ".py",
   "mimetype": "text/x-python",
   "name": "python",
   "nbconvert_exporter": "python",
   "pygments_lexer": "ipython3",
   "version": "3.10.8"
  }
 },
 "nbformat": 4,
 "nbformat_minor": 5
}
