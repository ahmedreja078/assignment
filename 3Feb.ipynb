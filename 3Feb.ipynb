{
 "cells": [
  {
   "cell_type": "markdown",
   "id": "bd588815-8a42-4a45-9bad-3df1c4cd7176",
   "metadata": {},
   "source": [
    "- 1.Which keyword is used to create a function? Create a function to return a list of odd numbers in the\n",
    "range of 1 to 25."
   ]
  },
  {
   "cell_type": "markdown",
   "id": "f6e0091d-2e87-46a9-ac0c-8627cac22780",
   "metadata": {},
   "source": [
    "The def keyword is used to create a function in Python. Here's an example of how to create a function to return a list of odd numbers in the range of 1 to 25:"
   ]
  },
  {
   "cell_type": "code",
   "execution_count": 22,
   "id": "69e94069-b849-439d-b9a9-3d3028691d22",
   "metadata": {},
   "outputs": [],
   "source": [
    "def Odd():\n",
    "    oddNumber = []\n",
    "    for i in range(1, 26):\n",
    "        if i%2==0:\n",
    "            oddNumber.append(i)\n",
    "    return (oddNumber)"
   ]
  },
  {
   "cell_type": "code",
   "execution_count": 21,
   "id": "3d8ee359-75df-4b9e-990e-9d65f7948fab",
   "metadata": {},
   "outputs": [
    {
     "data": {
      "text/plain": [
       "[2, 4, 6, 8, 10, 12, 14, 16, 18, 20, 22, 24]"
      ]
     },
     "execution_count": 21,
     "metadata": {},
     "output_type": "execute_result"
    }
   ],
   "source": [
    "Odd()"
   ]
  },
  {
   "cell_type": "code",
   "execution_count": null,
   "id": "75c96539-722c-4267-84a1-9970b1fbc048",
   "metadata": {},
   "outputs": [],
   "source": []
  },
  {
   "cell_type": "markdown",
   "id": "a61fd7d5-5349-466b-9579-85cb96d0a855",
   "metadata": {},
   "source": [
    "- 2.Why *args and **kwargs is used in some functions? Create a function each for *args and **kwargs\n",
    "to demonstrate their use."
   ]
  },
  {
   "cell_type": "markdown",
   "id": "c7e9db66-cf74-4790-9de2-b318bb54d394",
   "metadata": {},
   "source": [
    "*args and **kwargs are special syntax in Python that allow you to pass a variable number of arguments to a function.\n",
    "\n",
    "*args is used to pass a variable number of non-keyworded arguments to a function. It is represented by an asterisk (*) followed by a variable name. When a function parameter is defined with *args, it means that any number of extra positional arguments can be passed into the function.\n",
    "\n",
    "**kwargs is used to pass a variable number of keyworded arguments to a function. It is represented by two asterisks (**) followed by a variable name. When a function parameter is defined with **kwargs, it means that any number of extra keyword arguments can be passed into the function.\n",
    "\n",
    "Here's an example of how to use *args and **kwargs in functions:"
   ]
  },
  {
   "cell_type": "code",
   "execution_count": 24,
   "id": "82a61399-abee-4d17-8967-279b9ac8a4ca",
   "metadata": {},
   "outputs": [
    {
     "name": "stdout",
     "output_type": "stream",
     "text": [
      "6\n",
      "22\n",
      "name: ahmed\n",
      "age: 21\n",
      "city: Malda\n",
      "country: India\n",
      "population: 1280000\n"
     ]
    }
   ],
   "source": [
    "# Example of a function that uses *args\n",
    "def sum_numbers(*args):\n",
    "    result = 0\n",
    "    for num in args:\n",
    "        result += num\n",
    "    return result\n",
    "\n",
    "print(sum_numbers(1, 2, 3))  # Output: 6\n",
    "print(sum_numbers(4, 5, 6, 7))  # Output: 22\n",
    "\n",
    "\n",
    "# Example of a function that uses **kwargs\n",
    "def print_kwargs(**kwargs):\n",
    "    for key, value in kwargs.items():\n",
    "        print(f\"{key}: {value}\")\n",
    "\n",
    "print_kwargs(name=\"ahmed\", age=21)  # Output: name: ahmed, age: 21\n",
    "print_kwargs(city=\"Malda\", country=\"India\", population=1280000)  # Output: city: Malda, country:India, population: 1280000\n"
   ]
  },
  {
   "cell_type": "markdown",
   "id": "45c0971b",
   "metadata": {},
   "source": [
    "- What is an iterator in python? Name the method used to initialise the iterator object and the method\n",
    "used for iteration. Use these methods to print the first five elements of the given list [2, 4, 6, 8, 10, 12, 14,\n",
    "16, 18, 20]."
   ]
  },
  {
   "cell_type": "markdown",
   "id": "99633f92",
   "metadata": {},
   "source": [
    "An iterator in Python is an object that allows you to traverse through a sequence of values one at a time, without having to load the entire sequence into memory at once. In other words, it is a way to access the elements of a collection, one at a time, without having to know the details of the collection's internal representation.\n",
    "\n",
    "\n",
    "To create an iterator in Python, you need to call the iter() method on a sequence or collection. This method returns an iterator object that you can use to traverse through the elements of the sequence.\n",
    "\n",
    "To iterate through the elements of an iterator, you can use the next() method. This method returns the next element of the iterator, and advances the iterator to the next position. When there are no more elements to iterate over, the next() method raises a StopIteration exception.\n",
    "\n",
    "\n",
    "Here's an example of how to use an iterator to print the first five elements of the list [2, 4, 6, 8, 10, 12, 14, 16, 18, 20]:"
   ]
  },
  {
   "cell_type": "code",
   "execution_count": 1,
   "id": "49d3b98f",
   "metadata": {},
   "outputs": [
    {
     "name": "stdout",
     "output_type": "stream",
     "text": [
      "2\n",
      "4\n",
      "6\n",
      "8\n",
      "10\n"
     ]
    }
   ],
   "source": [
    "my_list = [2, 4, 6, 8, 10, 12, 14, 16, 18, 20]\n",
    "\n",
    "my_iterator = iter(my_list)\n",
    "\n",
    "for i in range(5):\n",
    "    print(next(my_iterator))"
   ]
  },
  {
   "cell_type": "markdown",
   "id": "0ad8fe6d",
   "metadata": {},
   "source": [
    "- What is a generator function in python? Why yield keyword is used? Give an example of a generator\n",
    "function."
   ]
  },
  {
   "cell_type": "markdown",
   "id": "fd883c14",
   "metadata": {},
   "source": [
    "In Python, a generator function is a special type of function that generates a sequence of values one at a time, instead of returning a single value. Generator functions use the yield keyword to suspend and resume the execution of the function, allowing you to generate a series of values on-the-fly, without having to store them all in memory at once.\n",
    "\n",
    "The yield keyword is used to return a value from the generator function and temporarily suspend its execution. The generator function can later be resumed from where it left off, and continue generating values as needed. This makes generator functions very memory-efficient and well-suited for generating large sequences of values, or for working with infinite sequences.\n",
    "\n",
    "Here's an example of a generator function in Python that generates the sequence of Fibonacci numbers:"
   ]
  },
  {
   "cell_type": "code",
   "execution_count": 2,
   "id": "58f48017",
   "metadata": {},
   "outputs": [],
   "source": [
    "def fibonacci():\n",
    "    a, b = 0, 1\n",
    "    while True:\n",
    "        yield a\n",
    "        a, b = b, a + b"
   ]
  },
  {
   "cell_type": "code",
   "execution_count": 3,
   "id": "0d7f97c2",
   "metadata": {},
   "outputs": [
    {
     "name": "stdout",
     "output_type": "stream",
     "text": [
      "0\n",
      "1\n",
      "1\n",
      "2\n",
      "3\n",
      "5\n",
      "8\n",
      "13\n",
      "21\n",
      "34\n"
     ]
    }
   ],
   "source": [
    "fib = fibonacci()\n",
    "\n",
    "for i in range(10):\n",
    "    print(next(fib))\n"
   ]
  },
  {
   "cell_type": "markdown",
   "id": "839328ec",
   "metadata": {},
   "source": [
    "- Create a generator function for prime numbers less than 1000. Use the next() method to print the\n",
    "first 20 prime numbers"
   ]
  },
  {
   "cell_type": "code",
   "execution_count": 4,
   "id": "f60067cb",
   "metadata": {},
   "outputs": [],
   "source": [
    "def primes():\n",
    "    num = 2\n",
    "    while num < 1000:\n",
    "        for i in range(2, num):\n",
    "            if num % i == 0:\n",
    "                break\n",
    "        else:\n",
    "            yield num\n",
    "        num += 1"
   ]
  },
  {
   "cell_type": "code",
   "execution_count": 5,
   "id": "9b783e38",
   "metadata": {},
   "outputs": [
    {
     "name": "stdout",
     "output_type": "stream",
     "text": [
      "2\n",
      "3\n",
      "5\n",
      "7\n",
      "11\n",
      "13\n",
      "17\n",
      "19\n",
      "23\n",
      "29\n",
      "31\n",
      "37\n",
      "41\n",
      "43\n",
      "47\n",
      "53\n",
      "59\n",
      "61\n",
      "67\n",
      "71\n"
     ]
    }
   ],
   "source": [
    "\n",
    "prime_gen = primes()\n",
    "\n",
    "\n",
    "for i in range(20):\n",
    "    print(next(prime_gen))\n"
   ]
  },
  {
   "cell_type": "markdown",
   "id": "f79ee2a2",
   "metadata": {},
   "source": [
    "- Write a python program to print the first 10 Fibonacci numbers using a while loop"
   ]
  },
  {
   "cell_type": "code",
   "execution_count": 6,
   "id": "b1b8621a",
   "metadata": {},
   "outputs": [
    {
     "name": "stdout",
     "output_type": "stream",
     "text": [
      "0\n",
      "1\n",
      "1\n",
      "2\n",
      "3\n",
      "5\n",
      "8\n",
      "13\n",
      "21\n",
      "34\n"
     ]
    }
   ],
   "source": [
    "a, b = 0, 1\n",
    "\n",
    "i = 0\n",
    "while i < 10:\n",
    "    print(a)\n",
    "    a, b = b, a + b\n",
    "    i += 1\n"
   ]
  },
  {
   "cell_type": "markdown",
   "id": "0d2e714c",
   "metadata": {},
   "source": [
    "- Write a List Comprehension to iterate through the given string: ‘pwskills’.\n",
    "Expected output: ['p', 'w', 's', 'k', 'i', 'l', 'l', 's']"
   ]
  },
  {
   "cell_type": "code",
   "execution_count": 7,
   "id": "929c147f",
   "metadata": {},
   "outputs": [
    {
     "name": "stdout",
     "output_type": "stream",
     "text": [
      "['p', 'w', 's', 'k', 'l', 'l', 's']\n"
     ]
    }
   ],
   "source": [
    "string = 'pwskills'\n",
    "\n",
    "consonants = [char for char in string if char not in 'aeiou']\n",
    "\n",
    "print(consonants)\n"
   ]
  },
  {
   "cell_type": "markdown",
   "id": "fe175368",
   "metadata": {},
   "source": [
    "- Write a python program to check whether a given number is Palindrome or not using a while loop"
   ]
  },
  {
   "cell_type": "code",
   "execution_count": 10,
   "id": "0adefdfa",
   "metadata": {},
   "outputs": [
    {
     "name": "stdout",
     "output_type": "stream",
     "text": [
      "Enter a number: 3663\n",
      "The number is a palindrome.\n"
     ]
    }
   ],
   "source": [
    "num = int(input(\"Enter a number: \"))\n",
    "num_copy = num\n",
    "\n",
    "reverse = 0\n",
    "while num > 0:\n",
    "    digit = num % 10\n",
    "    reverse = reverse * 10 + digit\n",
    "    num //= 10\n",
    "\n",
    "if num_copy == reverse:\n",
    "    print(\"The number is a palindrome.\")\n",
    "else:\n",
    "    print(\"The number is not a palindrome.\")\n"
   ]
  },
  {
   "cell_type": "markdown",
   "id": "1962a299",
   "metadata": {},
   "source": [
    "- Write a code to print odd numbers from 1 to 100 using list comprehension.\n",
    "\n",
    "Note: Use a list comprehension to create a list from 1 to 100 and use another List comprehension to filter\n",
    "out odd numbers."
   ]
  },
  {
   "cell_type": "code",
   "execution_count": 13,
   "id": "e5f53d9e",
   "metadata": {},
   "outputs": [
    {
     "name": "stdout",
     "output_type": "stream",
     "text": [
      "[1, 3, 5, 7, 9, 11, 13, 15, 17, 19, 21, 23, 25, 27, 29, 31, 33, 35, 37, 39, 41, 43, 45, 47, 49, 51, 53, 55, 57, 59, 61, 63, 65, 67, 69, 71, 73, 75, 77, 79, 81, 83, 85, 87, 89, 91, 93, 95, 97, 99]\n"
     ]
    }
   ],
   "source": [
    "numbers = [num for num in range(1, 101)]\n",
    "\n",
    "odd_numbers = [num for num in numbers if num % 2 == 1]\n",
    "\n",
    "print(odd_numbers)"
   ]
  },
  {
   "cell_type": "code",
   "execution_count": null,
   "id": "24889edc",
   "metadata": {},
   "outputs": [],
   "source": []
  }
 ],
 "metadata": {
  "kernelspec": {
   "display_name": "Python 3 (ipykernel)",
   "language": "python",
   "name": "python3"
  },
  "language_info": {
   "codemirror_mode": {
    "name": "ipython",
    "version": 3
   },
   "file_extension": ".py",
   "mimetype": "text/x-python",
   "name": "python",
   "nbconvert_exporter": "python",
   "pygments_lexer": "ipython3",
   "version": "3.10.8"
  }
 },
 "nbformat": 4,
 "nbformat_minor": 5
}
