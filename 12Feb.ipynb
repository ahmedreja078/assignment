{
 "cells": [
  {
   "cell_type": "markdown",
   "id": "ef266428",
   "metadata": {},
   "source": [
    "- Q1. What is an Exception in pthon? Write the different between Exceptions and syntax errors"
   ]
  },
  {
   "cell_type": "markdown",
   "id": "604080f8",
   "metadata": {},
   "source": [
    "In Python, an exception is an error that occurs during program execution and interrupts the normal flow of the program. When an exception occurs, Python generates an object called an exception object, which contains information about the error that occurred. The program can catch the exception object and handle the error in a specific way, allowing the program to recover and continue running.\n",
    "\n",
    "The main difference between exceptions and syntax errors is that exceptions occur during program execution, while syntax errors occur before the program starts running. Syntax errors are usually caused by mistakes in the program's code, while exceptions can be caused by a wide range of issues, including unexpected inputs, network problems, or other runtime errors. Additionally, syntax errors are typically easier to detect and fix than exceptions, as they are usually caught by the Python interpreter and reported immediately. Exceptions, on the other hand, may require more sophisticated error handling and debugging techniques to diagnose and resolve."
   ]
  },
  {
   "cell_type": "markdown",
   "id": "8bf8cb14",
   "metadata": {},
   "source": [
    "- Q2. What happens when an exception is not handled? Explain with an example"
   ]
  },
  {
   "cell_type": "markdown",
   "id": "78b1ec78",
   "metadata": {},
   "source": [
    "When an exception is not handled in a Python program, it causes the program to terminate abruptly and display an error message. The error message provides information about the type of exception that occurred, as well as the location in the code where the exception occurred. This can make it difficult to determine the cause of the error and fix the problem.\n",
    "\n",
    "For example,"
   ]
  },
  {
   "cell_type": "code",
   "execution_count": 1,
   "id": "4cdf8dc1",
   "metadata": {},
   "outputs": [
    {
     "name": "stdout",
     "output_type": "stream",
     "text": [
      "Error: could not open file.\n"
     ]
    }
   ],
   "source": [
    "try:\n",
    "    file = open(\"myfile.txt\", \"r\")\n",
    "except IOError:\n",
    "    print(\"Error: could not open file.\")"
   ]
  },
  {
   "cell_type": "markdown",
   "id": "4b701fe1",
   "metadata": {},
   "source": [
    "- Q3. Which Python statements are used to catch and handle exceptions ? Explain with an example ."
   ]
  },
  {
   "cell_type": "markdown",
   "id": "4dcffbc3",
   "metadata": {},
   "source": [
    "In Python, the try and except statements are used to catch and handle exceptions. The try block contains the code that may raise an exception, and the except block contains the code that handles the exception if it occurs.\n",
    "\n",
    "Here's an example of how to use try and except to catch and handle a ValueError exception:"
   ]
  },
  {
   "cell_type": "code",
   "execution_count": 3,
   "id": "8a80a3cf",
   "metadata": {},
   "outputs": [
    {
     "name": "stdout",
     "output_type": "stream",
     "text": [
      "Enter a number: fs\n",
      "Error: please enter a valid number.\n"
     ]
    }
   ],
   "source": [
    "try:\n",
    "    x = int(input(\"Enter a number: \"))\n",
    "except ValueError:\n",
    "    print(\"Error: please enter a valid number.\")"
   ]
  },
  {
   "cell_type": "markdown",
   "id": "b45eb59d",
   "metadata": {},
   "source": [
    "Q4. explain with an example:            \n",
    "a. Try and else.        b. Finally.                            c.raise"
   ]
  },
  {
   "cell_type": "code",
   "execution_count": 5,
   "id": "65c58737",
   "metadata": {},
   "outputs": [
    {
     "name": "stdout",
     "output_type": "stream",
     "text": [
      "Enter a number: 0\n",
      "Error: cannot divide by zero.\n"
     ]
    }
   ],
   "source": [
    "#a. try and else:\n",
    "try:\n",
    "    x = int(input(\"Enter a number: \"))\n",
    "    y = 10 / x\n",
    "except ValueError:\n",
    "    print(\"Error: please enter a valid number.\")\n",
    "except ZeroDivisionError:\n",
    "    print(\"Error: cannot divide by zero.\")\n",
    "else:\n",
    "    print(\"Result:\", y)\n"
   ]
  },
  {
   "cell_type": "code",
   "execution_count": 7,
   "id": "77fe275d",
   "metadata": {},
   "outputs": [
    {
     "name": "stdout",
     "output_type": "stream",
     "text": [
      "Error: could not open file.\n",
      "Finally is executed\n"
     ]
    }
   ],
   "source": [
    "# b. finally:\n",
    "try:\n",
    "    file = open(\"example.txt\", \"r\")\n",
    "    # Do some operations on the file\n",
    "except IOError:\n",
    "    print(\"Error: could not open file.\")\n",
    "finally:\n",
    "    #file.close()\n",
    "    print(\"Finally is executed\")"
   ]
  },
  {
   "cell_type": "code",
   "execution_count": 8,
   "id": "c9202b89",
   "metadata": {},
   "outputs": [
    {
     "name": "stdout",
     "output_type": "stream",
     "text": [
      "Error: cannot divide by zero.\n"
     ]
    }
   ],
   "source": [
    "#c. raise:\n",
    "def divide(x, y):\n",
    "    if y == 0:\n",
    "        raise ValueError(\"Error: cannot divide by zero.\")\n",
    "    else:\n",
    "        return x / y\n",
    "\n",
    "try:\n",
    "    result = divide(10, 0)\n",
    "except ValueError as e:\n",
    "    print(e)"
   ]
  },
  {
   "cell_type": "markdown",
   "id": "eaefcd3e",
   "metadata": {},
   "source": [
    "- Q5. What are custom exceptions in Python? Why do we need custom exceptions? Explain with an example."
   ]
  },
  {
   "cell_type": "markdown",
   "id": "4b98e58b",
   "metadata": {},
   "source": [
    "Custom exceptions, also known as user-defined exceptions, are exceptions that are defined by the programmer to handle specific situations that are not covered by the built-in exceptions in Python.\n",
    "\n",
    "We need custom exceptions in Python to create specific error messages for our code that are more meaningful to the end user. They allow us to communicate the reason for the error more clearly, making it easier to troubleshoot and resolve issues. Custom exceptions can also make our code more modular and reusable by providing a consistent way to handle specific types of errors across different functions and modules."
   ]
  },
  {
   "cell_type": "code",
   "execution_count": 10,
   "id": "32401b3c",
   "metadata": {},
   "outputs": [
    {
     "name": "stdout",
     "output_type": "stream",
     "text": [
      "Number must be positive.\n"
     ]
    }
   ],
   "source": [
    "class NegativeNumberError(Exception):\n",
    "    def __init__(self, message=\"Number must be positive.\"):\n",
    "        self.message = message\n",
    "        super().__init__(self.message)\n",
    "\n",
    "def calculate_square_root(num):\n",
    "    if num < 0:\n",
    "        raise NegativeNumberError()\n",
    "    else:\n",
    "        return num ** 0.5\n",
    "\n",
    "try:\n",
    "    result = calculate_square_root(-4)\n",
    "except NegativeNumberError as e:\n",
    "    print(e.message)"
   ]
  },
  {
   "cell_type": "markdown",
   "id": "73d9f114",
   "metadata": {},
   "source": [
    "- Q6. Create a custom exception class. Use this class to handle an exception."
   ]
  },
  {
   "cell_type": "markdown",
   "id": "a5ddee62",
   "metadata": {},
   "source": [
    "an example of creating a custom exception class and using it to handle an exception:"
   ]
  },
  {
   "cell_type": "code",
   "execution_count": 11,
   "id": "47718393",
   "metadata": {},
   "outputs": [
    {
     "name": "stdout",
     "output_type": "stream",
     "text": [
      "Invalid age: 17. Age must be between 18 and 60.\n"
     ]
    }
   ],
   "source": [
    "class InvalidAgeError(Exception):\n",
    "    def __init__(self, age):\n",
    "        self.age = age\n",
    "        self.message = f\"Invalid age: {age}. Age must be between 18 and 60.\"\n",
    "        super().__init__(self.message)\n",
    "\n",
    "def check_age(age):\n",
    "    if age < 18 or age > 60:\n",
    "        raise InvalidAgeError(age)\n",
    "    else:\n",
    "        print(\"Valid age.\")\n",
    "\n",
    "try:\n",
    "    check_age(17)\n",
    "except InvalidAgeError as e:\n",
    "    print(e.message)"
   ]
  },
  {
   "cell_type": "code",
   "execution_count": null,
   "id": "e2361085",
   "metadata": {},
   "outputs": [],
   "source": []
  }
 ],
 "metadata": {
  "kernelspec": {
   "display_name": "Python 3 (ipykernel)",
   "language": "python",
   "name": "python3"
  },
  "language_info": {
   "codemirror_mode": {
    "name": "ipython",
    "version": 3
   },
   "file_extension": ".py",
   "mimetype": "text/x-python",
   "name": "python",
   "nbconvert_exporter": "python",
   "pygments_lexer": "ipython3",
   "version": "3.10.8"
  }
 },
 "nbformat": 4,
 "nbformat_minor": 5
}
