{
 "cells": [
  {
   "cell_type": "markdown",
   "id": "1c4e94f8",
   "metadata": {},
   "source": [
    "- 1.Explain with an example each when to use a for loop and a while loop"
   ]
  },
  {
   "cell_type": "markdown",
   "id": "9ae7013a",
   "metadata": {},
   "source": [
    "In Python, for loops are used when you want to iterate over a sequence (such as a list, tuple, or string) and execute a block of code for each item in the sequence.\n",
    "\n",
    "Here's an example of a for loop that iterates over a list of numbers and prints out each number:"
   ]
  },
  {
   "cell_type": "code",
   "execution_count": 2,
   "id": "e684bafe",
   "metadata": {},
   "outputs": [
    {
     "name": "stdout",
     "output_type": "stream",
     "text": [
      "1\n",
      "2\n",
      "3\n",
      "4\n",
      "5\n",
      "6\n"
     ]
    }
   ],
   "source": [
    "num = [1,2,3,4,5,6]\n",
    "for i in num:\n",
    "    print(i)"
   ]
  },
  {
   "cell_type": "markdown",
   "id": "562d8893",
   "metadata": {},
   "source": [
    "On the other hand, while loops are used when you want to keep executing a block of code as long as a certain condition is true.\n",
    "\n",
    "Here's an example of a while loop that prints out the numbers from 1 to 5:"
   ]
  },
  {
   "cell_type": "code",
   "execution_count": 1,
   "id": "2feb69b4",
   "metadata": {},
   "outputs": [
    {
     "name": "stdout",
     "output_type": "stream",
     "text": [
      "1\n",
      "2\n",
      "3\n",
      "4\n",
      "5\n"
     ]
    }
   ],
   "source": [
    "cont=1\n",
    "while cont <= 5:\n",
    "    print(cont)\n",
    "    cont+=1\n"
   ]
  },
  {
   "cell_type": "markdown",
   "id": "b94fee3b",
   "metadata": {},
   "source": [
    "- 2.Write a python program to print the sum and product of the first 10 natural numbers using for and while loop"
   ]
  },
  {
   "cell_type": "code",
   "execution_count": 8,
   "id": "53c1234e",
   "metadata": {},
   "outputs": [
    {
     "name": "stdout",
     "output_type": "stream",
     "text": [
      "Sum of first 10 natural numbers (using for loop): 55\n",
      "Sum of first 10 natural numbers (using for loop): 3628800\n"
     ]
    }
   ],
   "source": [
    "##using FOR loop\n",
    "num = range(1,11)\n",
    "\n",
    "sum_of_number=0\n",
    "sum_of_product=1\n",
    "\n",
    "for i in num:\n",
    "    sum_of_number+=i\n",
    "    sum_of_product*=i\n",
    "\n",
    "print(\"Sum of first 10 natural numbers (using for loop):\", sum_of_number)\n",
    "print(\"Sum of first 10 natural numbers (using for loop):\", sum_of_product)"
   ]
  },
  {
   "cell_type": "code",
   "execution_count": 10,
   "id": "de3f07eb",
   "metadata": {},
   "outputs": [
    {
     "name": "stdout",
     "output_type": "stream",
     "text": [
      "Sum of first 10 natural numbers (using for loop): 55\n",
      "Sum of first 10 natural numbers (using for loop): 3628800\n"
     ]
    }
   ],
   "source": [
    "##Using WHILE loop\n",
    "count=1\n",
    "sum_of_number=0\n",
    "sum_of_product=1\n",
    "\n",
    "while count <= 10:\n",
    "    sum_of_number+=count\n",
    "    sum_of_product*=count\n",
    "    count+=1\n",
    "print(\"Sum of first 10 natural numbers (using for loop):\", sum_of_number)\n",
    "print(\"Sum of first 10 natural numbers (using for loop):\", sum_of_product)"
   ]
  },
  {
   "cell_type": "markdown",
   "id": "4f560237",
   "metadata": {},
   "source": [
    "- Create a python program to compute the electricity bill for a household.\n",
    "\n",
    " The per-unit charges in rupees are as follows: For the first 100 units, the user will be charged Rs. 4.5 per unit, for the next 100 units, the user will be charged Rs. 6 per unit, and for the next 100 units, the user will be charged Rs. 10 per unit, After 300 units and above the user will be charged Rs. 20 per unit."
   ]
  },
  {
   "cell_type": "code",
   "execution_count": 14,
   "id": "da3ae828",
   "metadata": {},
   "outputs": [
    {
     "name": "stdout",
     "output_type": "stream",
     "text": [
      "Enter the number of units consumed in a month: 310\n",
      "The electricity bill for the month is: Rs. 2250.0\n"
     ]
    }
   ],
   "source": [
    "units_consumed = int(input(\"Enter the number of units consumed in a month: \"))\n",
    "\n",
    "if units_consumed <= 100:\n",
    "    bill = units_consumed * 4.5\n",
    "elif units_consumed <= 200:\n",
    "    bill = 100 * 4.5 + (units_consumed - 100) * 6\n",
    "elif units_consumed <= 300:\n",
    "    bill = 100 * 4.5 + 100 * 6 + (units_consumed - 200) * 10\n",
    "else:\n",
    "    bill = 100 * 4.5 + 100 * 6 + 100 * 10 + (units_consumed - 300) * 20\n",
    "\n",
    "print(\"The electricity bill for the month is: Rs.\", bill)"
   ]
  },
  {
   "cell_type": "markdown",
   "id": "2c97b78c",
   "metadata": {},
   "source": [
    "- Create a list of numbers from 1 to 100. Use for loop and while loop to calculate the cube of each number and if the cube of that number is divisible by 4 or 5 then append that number in a list and print that list"
   ]
  },
  {
   "cell_type": "code",
   "execution_count": 15,
   "id": "63f932f4",
   "metadata": {},
   "outputs": [
    {
     "name": "stdout",
     "output_type": "stream",
     "text": [
      "Cubes of numbers from 1 to 100 that are divisible by 4 or 5 (using for loop): [8, 64, 125, 216, 512, 1000, 1728, 2744, 3375, 4096, 5832, 8000, 10648, 13824, 15625, 17576, 21952, 27000, 32768, 39304, 42875, 46656, 54872, 64000, 74088, 85184, 91125, 97336, 110592, 125000, 140608, 157464, 166375, 175616, 195112, 216000, 238328, 262144, 274625, 287496, 314432, 343000, 373248, 405224, 421875, 438976, 474552, 512000, 551368, 592704, 614125, 636056, 681472, 729000, 778688, 830584, 857375, 884736, 941192, 1000000]\n",
      "Cubes of numbers from 1 to 100 that are divisible by 4 or 5 (using while loop): [8, 64, 125, 216, 512, 1000, 1728, 2744, 3375, 4096, 5832, 8000, 10648, 13824, 15625, 17576, 21952, 27000, 32768, 39304, 42875, 46656, 54872, 64000, 74088, 85184, 91125, 97336, 110592, 125000, 140608, 157464, 166375, 175616, 195112, 216000, 238328, 262144, 274625, 287496, 314432, 343000, 373248, 405224, 421875, 438976, 474552, 512000, 551368, 592704, 614125, 636056, 681472, 729000, 778688, 830584, 857375, 884736, 941192, 1000000]\n"
     ]
    }
   ],
   "source": [
    "# Using a for loop\n",
    "numbers = range(1, 101)\n",
    "cubes = []\n",
    "\n",
    "for number in numbers:\n",
    "    cube = number ** 3\n",
    "    if cube % 4 == 0 or cube % 5 == 0:\n",
    "        cubes.append(cube)\n",
    "\n",
    "print(\"Cubes of numbers from 1 to 100 that are divisible by 4 or 5 (using for loop):\", cubes)\n",
    "\n",
    "# Using a while loop\n",
    "counter = 1\n",
    "cubes = []\n",
    "\n",
    "while counter <= 100:\n",
    "    cube = counter ** 3\n",
    "    if cube % 4 == 0 or cube % 5 == 0:\n",
    "        cubes.append(cube)\n",
    "    counter += 1\n",
    "\n",
    "print(\"Cubes of numbers from 1 to 100 that are divisible by 4 or 5 (using while loop):\", cubes)\n"
   ]
  },
  {
   "cell_type": "markdown",
   "id": "7b853b9b",
   "metadata": {},
   "source": [
    "- Write a program to filter count vowels in the below-given string. string = \"I want to become a data scientist\""
   ]
  },
  {
   "cell_type": "code",
   "execution_count": 17,
   "id": "b223f156",
   "metadata": {},
   "outputs": [
    {
     "name": "stdout",
     "output_type": "stream",
     "text": [
      "Number of vowels in the string: 12\n"
     ]
    }
   ],
   "source": [
    "string = \"I want to become a data scientist\"\n",
    "vowels = \"aeiouAEIOU\"\n",
    "count = 0\n",
    "\n",
    "for char in string:\n",
    "    if char in vowels:\n",
    "        count += 1\n",
    "\n",
    "print(\"Number of vowels in the string:\", count)"
   ]
  },
  {
   "cell_type": "code",
   "execution_count": null,
   "id": "812d5cc6",
   "metadata": {},
   "outputs": [],
   "source": []
  }
 ],
 "metadata": {
  "kernelspec": {
   "display_name": "Python 3 (ipykernel)",
   "language": "python",
   "name": "python3"
  },
  "language_info": {
   "codemirror_mode": {
    "name": "ipython",
    "version": 3
   },
   "file_extension": ".py",
   "mimetype": "text/x-python",
   "name": "python",
   "nbconvert_exporter": "python",
   "pygments_lexer": "ipython3",
   "version": "3.9.13"
  }
 },
 "nbformat": 4,
 "nbformat_minor": 5
}
