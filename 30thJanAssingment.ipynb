{
 "cells": [
  {
   "cell_type": "code",
   "execution_count": 4,
   "id": "f8278397",
   "metadata": {},
   "outputs": [
    {
     "name": "stdout",
     "output_type": "stream",
     "text": [
      "Enter your marks : 44\n",
      "Grade D\n"
     ]
    }
   ],
   "source": [
    "# 1. Write a program to accept percentage from the user and display the grade according to the following criteria:\n",
    "marks = int (input(\"Enter your marks : \"))\n",
    "if marks > 90 :\n",
    "    print(\"Grade A\")\n",
    "elif marks > 80 and marks <= 90 :\n",
    "    print(\"Grade B\")\n",
    "elif marks >= 60 and marks <=80 :\n",
    "    print(\"Grade C\")\n",
    "else :\n",
    "    print(\"Grade D\")"
   ]
  },
  {
   "cell_type": "code",
   "execution_count": 6,
   "id": "66e2cecc",
   "metadata": {},
   "outputs": [
    {
     "name": "stdout",
     "output_type": "stream",
     "text": [
      "Enter yout Cost Price(in Rs): 2300000\n",
      "The Road tax to paid 15% \n"
     ]
    }
   ],
   "source": [
    "cp = int(input(\"Enter yout Cost Price(in Rs): \"))\n",
    "if cp > 100000 :\n",
    "    print(\"The Road tax to paid 15% \")\n",
    "elif cp > 50000 and cp <= 100000 :\n",
    "    print(\"The Road tax to paid 10% \")\n",
    "elif cp <= 50000 :\n",
    "    print(\"The Road tax to paid 5% \")"
   ]
  },
  {
   "cell_type": "code",
   "execution_count": 10,
   "id": "92aedc2b",
   "metadata": {},
   "outputs": [
    {
     "name": "stdout",
     "output_type": "stream",
     "text": [
      "Enter City Name: jaipur \n",
      " Monument: Red Fort \n"
     ]
    }
   ],
   "source": [
    "city = input(\"Enter City Name: \")\n",
    "if city == 'delhi' or 'Delhi' or 'DELHI' :\n",
    "    print(\" Monument: Red Fort \")\n",
    "elif city == 'Agra' or 'agra' or 'AGRA' :\n",
    "    print(\"Monument: Taj Mahal\")\n",
    "elif city == 'Jaipur' or 'jaipur' or 'JAIPUR' :\n",
    "    print(\"Monument: Jal Mahal\")"
   ]
  },
  {
   "cell_type": "code",
   "execution_count": 19,
   "id": "62347c72",
   "metadata": {},
   "outputs": [
    {
     "name": "stdout",
     "output_type": "stream",
     "text": [
      "Enter Number :11\n",
      "1\n"
     ]
    }
   ],
   "source": [
    "num = int(input(\"Enter Number :\"))\n",
    "count = 0\n",
    "while num > 10:\n",
    "    num = num / 3\n",
    "    count += 1\n",
    "    if num <= 10:\n",
    "        break\n",
    "print(count)"
   ]
  },
  {
   "cell_type": "markdown",
   "id": "ae89cbf9",
   "metadata": {},
   "source": [
    "5.Why and when to use while loop in python give a detailed Description with Example\n",
    "Ans:-\n",
    "    A while loop is used in Python to repeatedly execute a block of code as long as a given condition is true. It's useful when you want to execute a block of code multiple times and you don't know beforehand how many times you'll need to execute it.\n",
    "    Here's an example of using a while loop in Python:\n",
    "    \n",
    "counter = 1\n",
    "while counter <= 10:\n",
    "    print(counter)\n",
    "    counter += 1"
   ]
  },
  {
   "cell_type": "code",
   "execution_count": 20,
   "id": "eeebecff",
   "metadata": {},
   "outputs": [
    {
     "name": "stdout",
     "output_type": "stream",
     "text": [
      "*\n",
      "**\n",
      "***\n",
      "****\n",
      "*****\n"
     ]
    }
   ],
   "source": [
    "rows = 5\n",
    "for i in range(1, rows+1):\n",
    "    for j in range(1, i + 1):\n",
    "        print(\"*\", end=\"\")\n",
    "    print(\"\")"
   ]
  },
  {
   "cell_type": "code",
   "execution_count": 21,
   "id": "9ea31811",
   "metadata": {},
   "outputs": [
    {
     "name": "stdout",
     "output_type": "stream",
     "text": [
      "    * \n",
      "   * * \n",
      "  * * * \n",
      " * * * * \n",
      "* * * * * \n",
      " * * * * \n",
      "  * * * \n",
      "   * * \n",
      "    * \n"
     ]
    }
   ],
   "source": [
    "rows = 5\n",
    "for i in range(1, rows + 1):\n",
    "    for j in range(rows - i):\n",
    "        print(end=\" \")\n",
    "    for j in range(1, i + 1):\n",
    "        print(\"*\", end=\" \")\n",
    "    print(\"\")\n",
    "for i in range(rows - 1, 0, -1):\n",
    "    for j in range(rows - i):\n",
    "        print(end=\" \")\n",
    "    for j in range(1, i + 1):\n",
    "        print(\"*\", end=\" \")\n",
    "    print(\"\")"
   ]
  },
  {
   "cell_type": "code",
   "execution_count": 23,
   "id": "5bb6ec79",
   "metadata": {},
   "outputs": [
    {
     "name": "stdout",
     "output_type": "stream",
     "text": [
      "    * \n",
      "   * * \n",
      "  * * * \n",
      " * * * * \n",
      "* * * * * \n"
     ]
    }
   ],
   "source": [
    "rows = 5\n",
    "for i in range(1, rows + 1):\n",
    "    for j in range(rows - i):\n",
    "        print(end=\" \")\n",
    "    for j in range(1, i + 1):\n",
    "        print(\"*\", end=\" \")\n",
    "    print(\"\")"
   ]
  },
  {
   "cell_type": "code",
   "execution_count": 24,
   "id": "9b7e4376",
   "metadata": {},
   "outputs": [
    {
     "name": "stdout",
     "output_type": "stream",
     "text": [
      "10\n",
      "9\n",
      "8\n",
      "7\n",
      "6\n",
      "5\n",
      "4\n",
      "3\n",
      "2\n",
      "1\n"
     ]
    }
   ],
   "source": [
    "counter = 10\n",
    "while counter >= 1:\n",
    "    print(counter)\n",
    "    counter -= 1"
   ]
  },
  {
   "cell_type": "code",
   "execution_count": 26,
   "id": "a4ad7f11",
   "metadata": {},
   "outputs": [
    {
     "name": "stdout",
     "output_type": "stream",
     "text": [
      "1\n",
      "2\n",
      "3\n",
      "4\n",
      "5\n",
      "6\n",
      "7\n",
      "8\n",
      "9\n",
      "10\n"
     ]
    }
   ],
   "source": [
    "counter = 1\n",
    "while counter <= 10:\n",
    "    print(counter)\n",
    "    counter += 1"
   ]
  },
  {
   "cell_type": "code",
   "execution_count": null,
   "id": "e457bd08",
   "metadata": {},
   "outputs": [],
   "source": []
  }
 ],
 "metadata": {
  "kernelspec": {
   "display_name": "Python 3 (ipykernel)",
   "language": "python",
   "name": "python3"
  },
  "language_info": {
   "codemirror_mode": {
    "name": "ipython",
    "version": 3
   },
   "file_extension": ".py",
   "mimetype": "text/x-python",
   "name": "python",
   "nbconvert_exporter": "python",
   "pygments_lexer": "ipython3",
   "version": "3.10.8"
  }
 },
 "nbformat": 4,
 "nbformat_minor": 5
}
