{
 "cells": [
  {
   "cell_type": "markdown",
   "id": "13b608d7",
   "metadata": {},
   "source": [
    "- Q1. What is multithreading in python? Why is it used? Name the module used to handle threads in python"
   ]
  },
  {
   "cell_type": "markdown",
   "id": "a38cb76c",
   "metadata": {},
   "source": [
    "Multithreading in Python refers to the ability of a program to simultaneously execute multiple threads of execution within a single process. Each thread runs independently, but they share the same resources of the parent process, such as memory, file descriptors, and so on.\n",
    "\n",
    "Multithreading is used in Python to improve the performance of programs that require concurrent processing. It allows a program to execute multiple tasks simultaneously, which can improve the overall efficiency and speed of the program.\n",
    "\n",
    "Python provides a built-in module called threading to handle threads. The threading module provides a simple way to create and manage threads in Python, with features such as thread synchronization, locks, and events. It is easy to use and well-documented, making it a popular choice for handling threads in Python programs."
   ]
  },
  {
   "cell_type": "markdown",
   "id": "9218442c",
   "metadata": {},
   "source": [
    " - Q2. Why threading module used? Write the use of the following functions\n",
    "activeCount()\n",
    "currentThread()\n",
    "enumerate()"
   ]
  },
  {
   "cell_type": "markdown",
   "id": "4970c1f9",
   "metadata": {},
   "source": [
    "The threading module is used in Python to create and manage threads in a program. It provides a simple and efficient way to create and control multiple threads of execution within a single process. The threading module is useful when you want to perform multiple tasks simultaneously, such as reading and writing to files, downloading files from the internet, or processing data.\n",
    "\n",
    "Here are the uses of the following functions in the threading module:"
   ]
  },
  {
   "cell_type": "code",
   "execution_count": 1,
   "id": "63a0d0d6",
   "metadata": {},
   "outputs": [
    {
     "name": "stdout",
     "output_type": "stream",
     "text": [
      "Number of active threads: 6\n",
      "List of active threads: [<_MainThread(MainThread, started 9888)>, <Thread(IOPub, started daemon 10376)>, <Heartbeat(Heartbeat, started daemon 14328)>, <ControlThread(Control, started daemon 13824)>, <HistorySavingThread(IPythonHistorySavingThread, started 760)>, <ParentPollerWindows(Thread-4, started daemon 6904)>]\n",
      "Thread Worker1 started\n",
      "Thread Worker2 started\n",
      "Thread Worker2 finishedThread Worker1 finished\n",
      "\n",
      "Number of active threads: 6\n",
      "List of active threads: [<_MainThread(MainThread, started 9888)>, <Thread(IOPub, started daemon 10376)>, <Heartbeat(Heartbeat, started daemon 14328)>, <ControlThread(Control, started daemon 13824)>, <HistorySavingThread(IPythonHistorySavingThread, started 760)>, <ParentPollerWindows(Thread-4, started daemon 6904)>]\n"
     ]
    }
   ],
   "source": [
    "import threading\n",
    "import time\n",
    "\n",
    "def worker():\n",
    "    print(f\"Thread {threading.current_thread().name} started\")\n",
    "    time.sleep(1)\n",
    "    print(f\"Thread {threading.current_thread().name} finished\")\n",
    "\n",
    "if __name__ == '__main__':\n",
    "    print(f\"Number of active threads: {threading.active_count()}\")\n",
    "    print(f\"List of active threads: {threading.enumerate()}\")\n",
    "    \n",
    "    thread1 = threading.Thread(target=worker, name='Worker1')\n",
    "    thread2 = threading.Thread(target=worker, name='Worker2')\n",
    "\n",
    "    thread1.start()\n",
    "    thread2.start()\n",
    "\n",
    "    thread1.join()\n",
    "    thread2.join()\n",
    "\n",
    "    print(f\"Number of active threads: {threading.active_count()}\")\n",
    "    print(f\"List of active threads: {threading.enumerate()}\")"
   ]
  },
  {
   "cell_type": "code",
   "execution_count": null,
   "id": "572edd2a",
   "metadata": {},
   "outputs": [],
   "source": []
  },
  {
   "cell_type": "markdown",
   "id": "c565b5af",
   "metadata": {},
   "source": [
    "- Q3. Explain the following functions :-\n",
    " run ()\n",
    " start()\n",
    " join()\n",
    "isAlive()"
   ]
  },
  {
   "cell_type": "markdown",
   "id": "bc7fd94e",
   "metadata": {},
   "source": [
    "n Python's threading module, the following functions are used to manage threads:\n",
    "\n",
    "start(): This function starts a new thread of execution by calling the run() method of the Thread object. Once started, the thread will execute independently of the main program thread.\n",
    "\n",
    "run(): This function is called when a new thread is started using the start() method. The run() method contains the code that will be executed in the new thread. This method must be overridden in a subclass of Thread.\n",
    "\n",
    "join(): This function waits for the thread to finish execution. It blocks the calling thread until the thread being joined completes its execution or until a timeout occurs.\n",
    "\n",
    "isAlive(): This function returns a Boolean value that indicates whether the thread is currently executing or not. If the thread is still running, isAlive() returns True, otherwise it returns False."
   ]
  },
  {
   "cell_type": "code",
   "execution_count": 2,
   "id": "4a52db07",
   "metadata": {},
   "outputs": [
    {
     "name": "stdout",
     "output_type": "stream",
     "text": [
      "Worker 1 started\n",
      "Worker 2 started\n",
      "Thread 1 is alive: True\n",
      "Thread 2 is alive: True\n",
      "Worker 1 finished\n",
      "Worker 2 finished\n",
      "Thread 1 is alive: False\n",
      "Thread 2 is alive: False\n",
      "All threads finished\n"
     ]
    }
   ],
   "source": [
    "import threading\n",
    "import time\n",
    "\n",
    "def worker(name, delay):\n",
    "    print(f\"{name} started\")\n",
    "    time.sleep(delay)\n",
    "    print(f\"{name} finished\")\n",
    "\n",
    "if __name__ == '__main__':\n",
    "    thread1 = threading.Thread(target=worker, args=('Worker 1', 2))\n",
    "    thread2 = threading.Thread(target=worker, args=('Worker 2', 4))\n",
    "\n",
    "    thread1.start()\n",
    "    thread2.start()\n",
    "\n",
    "    print(f\"Thread 1 is alive: {thread1.is_alive()}\")\n",
    "    print(f\"Thread 2 is alive: {thread2.is_alive()}\")\n",
    "\n",
    "    thread1.join()\n",
    "    thread2.join()\n",
    "\n",
    "    print(f\"Thread 1 is alive: {thread1.is_alive()}\")\n",
    "    print(f\"Thread 2 is alive: {thread2.is_alive()}\")\n",
    "\n",
    "    print(\"All threads finished\")"
   ]
  },
  {
   "cell_type": "markdown",
   "id": "cf0d1086",
   "metadata": {},
   "source": [
    "- Q4. Write a python program to create two threads. Thread one must print the list of squares and thread\n",
    "two must print the list of cubes."
   ]
  },
  {
   "cell_type": "code",
   "execution_count": 3,
   "id": "15d877cb",
   "metadata": {},
   "outputs": [
    {
     "name": "stdout",
     "output_type": "stream",
     "text": [
      "Square of 1 is 1Cube of 1 is 1\n",
      "Cube of 2 is 8\n",
      "Cube of 3 is 27\n",
      "Cube of 4 is 64\n",
      "Cube of 5 is 125\n",
      "Cube of 6 is 216\n",
      "Cube of 7 is 343\n",
      "Cube of 8 is 512\n",
      "Cube of 9 is 729\n",
      "Cube of 10 is 1000\n",
      "\n",
      "Square of 2 is 4\n",
      "Square of 3 is 9\n",
      "Square of 4 is 16\n",
      "Square of 5 is 25\n",
      "Square of 6 is 36\n",
      "Square of 7 is 49\n",
      "Square of 8 is 64\n",
      "Square of 9 is 81\n",
      "Square of 10 is 100\n",
      "All threads finished\n"
     ]
    }
   ],
   "source": [
    "import threading\n",
    "\n",
    "def print_squares():\n",
    "    for i in range(1, 11):\n",
    "        print(f\"Square of {i} is {i*i}\")\n",
    "\n",
    "def print_cubes():\n",
    "    for i in range(1, 11):\n",
    "        print(f\"Cube of {i} is {i*i*i}\")\n",
    "\n",
    "if __name__ == '__main__':\n",
    "    thread1 = threading.Thread(target=print_squares)\n",
    "    thread2 = threading.Thread(target=print_cubes)\n",
    "\n",
    "    thread1.start()\n",
    "    thread2.start()\n",
    "\n",
    "    thread1.join()\n",
    "    thread2.join()\n",
    "\n",
    "    print(\"All threads finished\")"
   ]
  },
  {
   "cell_type": "code",
   "execution_count": null,
   "id": "7c6000f5",
   "metadata": {},
   "outputs": [],
   "source": []
  },
  {
   "cell_type": "markdown",
   "id": "2bbc9b45",
   "metadata": {},
   "source": [
    "- Q5. State advantages and disadvantages of multithreading"
   ]
  },
  {
   "cell_type": "markdown",
   "id": "b50d6554",
   "metadata": {},
   "source": [
    "Multithreading has several advantages and disadvantages, which are as follows:\n",
    "\n",
    "Advantages:\n",
    "\n",
    "Increased efficiency: Multithreading allows a program to perform multiple tasks simultaneously. By dividing a program into multiple threads, each thread can perform its task concurrently, which can lead to a significant increase in efficiency.\n",
    "\n",
    "Resource sharing: Threads in the same process share the same memory space, which allows them to share resources such as variables and files. This can result in reduced memory consumption and better utilization of system resources.\n",
    "\n",
    "\n",
    "Disadvantages:\n",
    "\n",
    "Synchronization issues: Threads in a program share resources such as variables and files, which can result in synchronization issues if not properly handled. This can lead to race conditions and other concurrency-related problems.\n",
    "\n",
    "Increased complexity: Multithreaded programs can be more complex and difficult to write, debug, and maintain than single-threaded programs.\n",
    "\n",
    "Overhead: Multithreading can introduce additional overhead due to the need to manage and synchronize threads, which can lead to decreased performance."
   ]
  },
  {
   "cell_type": "code",
   "execution_count": null,
   "id": "08ddf6ec",
   "metadata": {},
   "outputs": [],
   "source": []
  },
  {
   "cell_type": "markdown",
   "id": "84122b87",
   "metadata": {},
   "source": [
    "- Q6. Explain deadlocks and race conditions."
   ]
  },
  {
   "cell_type": "markdown",
   "id": "f02f5870",
   "metadata": {},
   "source": [
    "Deadlocks: \n",
    "        Deadlock is a situation in which two or more threads are blocked and waiting for each other to release resources that they need to proceed. In other words, each thread is holding a resource that the other thread needs, and neither thread can proceed until the other releases the resource it holds. This results in a situation where the threads are stuck in a loop, waiting for each other to release resources, and the program becomes unresponsive.\n",
    "\n",
    "\n",
    "Race conditions: \n",
    "        A race condition occurs when two or more threads access shared data or resources concurrently, and the final outcome depends on the order in which the threads execute. In other words, the outcome of the program is dependent on the timing and order in which the threads access the shared resources. This can result in unexpected behavior, such as data corruption, incorrect results, or program crashes."
   ]
  },
  {
   "cell_type": "code",
   "execution_count": null,
   "id": "eef719a4",
   "metadata": {},
   "outputs": [],
   "source": []
  }
 ],
 "metadata": {
  "kernelspec": {
   "display_name": "Python 3 (ipykernel)",
   "language": "python",
   "name": "python3"
  },
  "language_info": {
   "codemirror_mode": {
    "name": "ipython",
    "version": 3
   },
   "file_extension": ".py",
   "mimetype": "text/x-python",
   "name": "python",
   "nbconvert_exporter": "python",
   "pygments_lexer": "ipython3",
   "version": "3.10.8"
  }
 },
 "nbformat": 4,
 "nbformat_minor": 5
}
