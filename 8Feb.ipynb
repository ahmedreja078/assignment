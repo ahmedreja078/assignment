{
 "cells": [
  {
   "cell_type": "markdown",
   "id": "8fe9e0fa",
   "metadata": {},
   "source": [
    "- Q1. What is Abstraction in OOps? Explain with an example."
   ]
  },
  {
   "cell_type": "markdown",
   "id": "3444bcb8",
   "metadata": {},
   "source": [
    "In Python, Abstraction can be achieved using abstract classes and interfaces through the use of the abc module.\n",
    "\n",
    "An abstract class is a class that cannot be instantiated and serves as a base or blueprint for other classes that can be instantiated. Abstract classes define abstract methods that must be implemented by any concrete subclasses. Here's an example:"
   ]
  },
  {
   "cell_type": "code",
   "execution_count": 2,
   "id": "ecc2e01f",
   "metadata": {},
   "outputs": [],
   "source": [
    "import abc\n",
    "class Vehicle:\n",
    "    @abc.abstractmethod\n",
    "    def start(self):\n",
    "        pass\n",
    "    \n",
    "    @abc.abstractmethod\n",
    "    def stop(self):\n",
    "        pass\n",
    "    \n",
    "class Car(Vehicle):\n",
    "    def start(self):\n",
    "        print(\"Car started.\")\n",
    "        \n",
    "    def stop(self):\n",
    "        print(\"Car stopped.\")\n",
    "        \n",
    "class Bike(Vehicle):\n",
    "    def start(self):\n",
    "        print(\"Bike started.\")\n",
    "        \n",
    "    def stop(self):\n",
    "        print(\"Bike stopped.\")\n"
   ]
  },
  {
   "cell_type": "code",
   "execution_count": 3,
   "id": "26660f08",
   "metadata": {},
   "outputs": [],
   "source": [
    "a = Car()"
   ]
  },
  {
   "cell_type": "code",
   "execution_count": 5,
   "id": "6f51fa7c",
   "metadata": {},
   "outputs": [
    {
     "name": "stdout",
     "output_type": "stream",
     "text": [
      "Car started.\n",
      "Car stopped.\n"
     ]
    }
   ],
   "source": [
    "a.start()\n",
    "a.stop()"
   ]
  },
  {
   "cell_type": "code",
   "execution_count": 6,
   "id": "4bfc0967",
   "metadata": {},
   "outputs": [],
   "source": [
    "b = Bike()"
   ]
  },
  {
   "cell_type": "code",
   "execution_count": 8,
   "id": "c8983ae3",
   "metadata": {},
   "outputs": [
    {
     "name": "stdout",
     "output_type": "stream",
     "text": [
      "Bike started.\n",
      "Bike stopped.\n"
     ]
    }
   ],
   "source": [
    "b.start()\n",
    "b.stop()"
   ]
  },
  {
   "cell_type": "markdown",
   "id": "0bdf7a7e",
   "metadata": {},
   "source": [
    "- Q2. Differentiate between Abstraction and Encapsulation. Explain with an example."
   ]
  },
  {
   "cell_type": "markdown",
   "id": "c1ab244d",
   "metadata": {},
   "source": [
    "Abstraction and encapsulation are two fundamental concepts in Object-Oriented Programming (OOPs) that are often confused with each other. While both of these concepts are related to hiding implementation details, they have different purposes and mechanisms.\n",
    "\n",
    "Abstraction is the process of identifying the essential features of an object and ignoring the non-essential details. It is achieved through the use of abstract classes and interfaces. Abstraction allows us to define a common interface that can be implemented by different objects in different ways.\n",
    "\n",
    "Encapsulation, on the other hand, is the process of hiding the internal details of an object and exposing only the necessary information. It is achieved through the use of access modifiers such as public, private, and protected. Encapsulation allows us to protect the internal state of an object from external interference.\n",
    "\n",
    "Abstraction Example:"
   ]
  },
  {
   "cell_type": "code",
   "execution_count": 12,
   "id": "2aa0afb4",
   "metadata": {},
   "outputs": [],
   "source": [
    "import abc\n",
    "class Employee:\n",
    "    @abc.abstractmethod\n",
    "    def display(self):\n",
    "        pass\n",
    "        \n",
    "class Manager(Employee):\n",
    "    def __init__(self, name, age, salary, team_size):\n",
    "        self.name = name\n",
    "        self.age = age\n",
    "        self.salary = salary\n",
    "        self.team_size = team_size\n",
    "        \n",
    "    def display(self):\n",
    "        print(\"Name:\", self.name)\n",
    "        print(\"Age:\", self.age)\n",
    "        print(\"Salary:\", self.salary)\n",
    "        print(\"Team size:\", self.team_size)\n"
   ]
  },
  {
   "cell_type": "code",
   "execution_count": 15,
   "id": "0dab737a",
   "metadata": {},
   "outputs": [],
   "source": [
    "ars = Manager(\"ahmed\",18,55000,5)"
   ]
  },
  {
   "cell_type": "code",
   "execution_count": 16,
   "id": "0b890ef4",
   "metadata": {},
   "outputs": [
    {
     "name": "stdout",
     "output_type": "stream",
     "text": [
      "Name: ahmed\n",
      "Age: 18\n",
      "Salary: 55000\n",
      "Team size: 5\n"
     ]
    }
   ],
   "source": [
    "ars.display()"
   ]
  },
  {
   "cell_type": "markdown",
   "id": "99140a58",
   "metadata": {},
   "source": [
    "Encapsulation Example:"
   ]
  },
  {
   "cell_type": "code",
   "execution_count": 31,
   "id": "f61ed8b8",
   "metadata": {},
   "outputs": [],
   "source": [
    "class Employee:\n",
    "    def __init__(self, name, age, salary):\n",
    "        self._name = name\n",
    "        self._age = age\n",
    "        self._salary = salary\n",
    "        \n",
    "    def display(self):\n",
    "        print(\"Name:\", self._name)\n",
    "        print(\"Age:\", self._age)\n",
    "        print(\"Salary:\", self._salary)\n",
    "        \n",
    "    def get_salary(self):\n",
    "        return self._salary\n",
    "        \n",
    "    def set_salary(self, salary):\n",
    "        self._salary = salary"
   ]
  },
  {
   "cell_type": "code",
   "execution_count": 32,
   "id": "fa5dba42",
   "metadata": {},
   "outputs": [],
   "source": [
    "art = Employee(\"ahmed\",19,5500)"
   ]
  },
  {
   "cell_type": "code",
   "execution_count": 33,
   "id": "efe3390e",
   "metadata": {},
   "outputs": [
    {
     "name": "stdout",
     "output_type": "stream",
     "text": [
      "Name: ahmed\n",
      "Age: 19\n",
      "Salary: 5500\n"
     ]
    }
   ],
   "source": [
    "art.display()"
   ]
  },
  {
   "cell_type": "code",
   "execution_count": 35,
   "id": "12e75153",
   "metadata": {},
   "outputs": [],
   "source": [
    "art.set_salary(66000)"
   ]
  },
  {
   "cell_type": "code",
   "execution_count": 37,
   "id": "410e0274",
   "metadata": {},
   "outputs": [
    {
     "data": {
      "text/plain": [
       "66000"
      ]
     },
     "execution_count": 37,
     "metadata": {},
     "output_type": "execute_result"
    }
   ],
   "source": [
    "art.get_salary()"
   ]
  },
  {
   "cell_type": "markdown",
   "id": "3c7e0865",
   "metadata": {},
   "source": [
    "- Q3. What is abc module in python? Why is it used?"
   ]
  },
  {
   "cell_type": "markdown",
   "id": "eeb6dd8c",
   "metadata": {},
   "source": [
    "In Python, the abc module stands for Abstract Base Classes. It is a built-in module that provides a way to define abstract classes and interfaces.\n",
    "\n",
    "The abc module is used to implement Abstraction in Object-Oriented Programming (OOPs). Abstraction is the process of identifying the essential features of an object and ignoring the non-essential details. It is achieved through the use of abstract classes and interfaces. Abstraction allows us to define a common interface that can be implemented by different objects in different ways."
   ]
  },
  {
   "cell_type": "markdown",
   "id": "8ac714f2",
   "metadata": {},
   "source": [
    "- Q4. How can we achieve data abstraction?"
   ]
  },
  {
   "cell_type": "markdown",
   "id": "9c33de29",
   "metadata": {},
   "source": [
    "In Object-Oriented Programming (OOP), data abstraction can be achieved through the use of abstract classes, interfaces, and access modifiers.\n",
    " Abstract classes: \n",
    "An abstract class is a class that cannot be instantiated and serves as a blueprint for other classes that can be instantiated. Abstract classes can define abstract methods that must be implemented by any concrete subclasses. By defining abstract methods, we can hide the implementation details from the outside world and only expose the necessary methods and properties.\n",
    "\n",
    "Interfaces: \n",
    "An interface is a contract that specifies a set of methods and properties that a class must implement. By defining interfaces, we can separate the specification of behavior from its implementation, allowing different classes to implement the same interface in their own unique way.\n",
    "\n",
    "Access modifiers: \n",
    "Access modifiers are keywords that are used to control the visibility of class members. In Python, we can use underscore (_) to indicate that a variable or method should be treated as private, which means it can only be accessed within the class. By hiding the implementation details from the outside world, we can achieve data abstraction."
   ]
  },
  {
   "cell_type": "markdown",
   "id": "ead59639",
   "metadata": {},
   "source": [
    "- Q5. Can we create an instance of an abstract class? Explain your answer."
   ]
  },
  {
   "cell_type": "markdown",
   "id": "5d7d3aa2",
   "metadata": {},
   "source": [
    "No, we cannot create an instance of an abstract class in Python or any other Object-Oriented Programming (OOP) language. An abstract class is a class that cannot be instantiated and only serves as a blueprint for other classes that can be instantiated. The main purpose of an abstract class is to define the interface for its subclasses, and to provide a common set of methods and properties that its subclasses must implement.\n",
    "\n",
    "In Python, we can define an abstract class using the abc module and the @abstractmethod decorator. Any class that contains at least one abstract method must also be marked as abstract using the ABC metaclass.\n",
    "\n",
    "Here's an example that demonstrates how to define an abstract class in Python:"
   ]
  },
  {
   "cell_type": "code",
   "execution_count": 39,
   "id": "62a685e3",
   "metadata": {},
   "outputs": [],
   "source": [
    "import abc\n",
    "class Animal(ABC):\n",
    "    @abc.abstractmethod\n",
    "    def make_sound(self):\n",
    "        pass\n",
    "    \n",
    "class Dog(Animal):\n",
    "    def make_sound(self):\n",
    "        print(\"Woof!\")\n",
    "        \n",
    "class Cat(Animal):\n",
    "    def make_sound(self):\n",
    "        print(\"Meow!\")"
   ]
  },
  {
   "cell_type": "code",
   "execution_count": 40,
   "id": "6a67ce9a",
   "metadata": {},
   "outputs": [
    {
     "name": "stdout",
     "output_type": "stream",
     "text": [
      "Woof!\n"
     ]
    }
   ],
   "source": [
    "dog = Dog()\n",
    "dog.make_sound()"
   ]
  },
  {
   "cell_type": "code",
   "execution_count": 41,
   "id": "512ae013",
   "metadata": {},
   "outputs": [
    {
     "name": "stdout",
     "output_type": "stream",
     "text": [
      "Meow!\n"
     ]
    }
   ],
   "source": [
    "cat = Cat()\n",
    "cat.make_sound()"
   ]
  },
  {
   "cell_type": "code",
   "execution_count": null,
   "id": "7c520079",
   "metadata": {},
   "outputs": [],
   "source": []
  }
 ],
 "metadata": {
  "kernelspec": {
   "display_name": "Python 3 (ipykernel)",
   "language": "python",
   "name": "python3"
  },
  "language_info": {
   "codemirror_mode": {
    "name": "ipython",
    "version": 3
   },
   "file_extension": ".py",
   "mimetype": "text/x-python",
   "name": "python",
   "nbconvert_exporter": "python",
   "pygments_lexer": "ipython3",
   "version": "3.10.8"
  }
 },
 "nbformat": 4,
 "nbformat_minor": 5
}
