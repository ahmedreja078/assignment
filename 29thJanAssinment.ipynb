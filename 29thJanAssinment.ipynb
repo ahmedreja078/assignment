{
 "cells": [
  {
   "cell_type": "code",
   "execution_count": null,
   "id": "11aec4d0",
   "metadata": {},
   "outputs": [],
   "source": [
    "1.Who developed Python Programming Language?\n",
    "Ans:- Guido van Rossum developed the Python programming language."
   ]
  },
  {
   "cell_type": "code",
   "execution_count": null,
   "id": "40d85b4c",
   "metadata": {},
   "outputs": [],
   "source": [
    "2.Which type of Programming does Python support?\n",
    "Ans:- \n",
    "i) Object-Oriented Programming\n",
    "ii) Functional Programming\n",
    "iii) Procedural Programming\n",
    "iv) Imperative Programming\n",
    "v) Aspect-Oriented Programming\n",
    "vi) Reflective Programming\n",
    "Python was designed to be a highly readable language, making it a great choice for beginners and experienced programmers alike."
   ]
  },
  {
   "cell_type": "code",
   "execution_count": null,
   "id": "2eb909c4",
   "metadata": {},
   "outputs": [],
   "source": [
    "3.Is Python case sensitive when dealing with identifiers?\n",
    "Ans:- \n",
    "Yes, Python is case-sensitive when dealing with identifiers (i.e. variables, function names, etc.). This means that variables named \"myVariable\" and \"myvariable\" are considered to be different in Python."
   ]
  },
  {
   "cell_type": "code",
   "execution_count": null,
   "id": "0b65b54a",
   "metadata": {},
   "outputs": [],
   "source": [
    "4.What is the correct extension of the Python file?\n",
    "Ans:- \n",
    "    The correct file extension for a Python file is \".py\". \n",
    "    This extension is used to indicate to the operating system and to other programs that the file is a Python script, \n",
    "    and it should be executed by a Python interpreter."
   ]
  },
  {
   "cell_type": "code",
   "execution_count": null,
   "id": "6fb20344",
   "metadata": {},
   "outputs": [],
   "source": [
    " 5.Is Python code compiled or interpreted?\n",
    " Ans:- \n",
    " Python code is interpreted, not compiled. This means that the code is executed line by line by the Python interpreter, rather than being transformed into machine code and executed directly by the computer's processor. The interpreted nature of Python can make it easier to develop and debug code, as well as making it more portable across different platforms and systems."
   ]
  },
  {
   "cell_type": "code",
   "execution_count": null,
   "id": "2c1e8366",
   "metadata": {},
   "outputs": [],
   "source": [
    " 6.Name a few blocks of code used to define in Python language?\n",
    " ans:- \n",
    "     Functions - defined using the \"def\" keyword\n",
    "     Classes - defined using the \"class\" keyword\n",
    "     Conditional statements - defined using \"if\", \"elif\", and \"else\" keywords\n",
    "     Loops - defined using \"for\" and \"while\" keywords"
   ]
  },
  {
   "cell_type": "code",
   "execution_count": null,
   "id": "3f849a0f",
   "metadata": {},
   "outputs": [],
   "source": [
    "7.State a character used to give single-line comments in Python?\n",
    "    ans:-\n",
    "        In Python, the character used for single-line comments is the pound symbol (#)"
   ]
  },
  {
   "cell_type": "code",
   "execution_count": null,
   "id": "1ef884c2",
   "metadata": {},
   "outputs": [],
   "source": [
    "8.Mention functions which can help us to find the version of python that we are currently working on?\n",
    "Ans:-\n",
    "    In Python, there are two functions to find the version of Python that you are currently working with:-\n",
    "    \n",
    "sys.version: This function returns a string that contains information about the Python version, build number, and compiler used.\n",
    "\n",
    "sys.version_info: This function returns a named tuple that contains information about the Python version, such as major, minor, and micro version numbers."
   ]
  },
  {
   "cell_type": "code",
   "execution_count": null,
   "id": "f53d0f0f",
   "metadata": {},
   "outputs": [],
   "source": [
    "9.Python supports the creation of anonymous functions at runtime, using a construct called\n",
    "Ans:- \n",
    "    In Python, anonymous functions at runtime can be created using a construct called \"lambda functions.\" A lambda function is a small anonymous function that can take any number of arguments but can only have one expression. The syntax for defining a lambda function is lambda arguments: expression. Lambda functions can be used wherever function objects are required"
   ]
  },
  {
   "cell_type": "code",
   "execution_count": null,
   "id": "694d6bda",
   "metadata": {},
   "outputs": [],
   "source": [
    "10.What does pip stand for python?\n",
    "Ans:-\n",
    "The term pip stands for \"Pip Installs Packages.\" It is a package manager for Python, used to install and manage packages and libraries for Python. With pip, you can search, download, and install packages from the Python Package Index (PyPI) and other package indexes. It is the recommended tool for installing packages for Python."
   ]
  },
  {
   "cell_type": "code",
   "execution_count": null,
   "id": "e39c6e1b",
   "metadata": {},
   "outputs": [],
   "source": [
    "11.Mention a few built-in functions in python?\n",
    "Ans:-\n",
    "    Here are some built-in functions in Python:\n",
    "    \n",
    "print(): used to print output to the console\n",
    "len(): returns the length of an object, such as a string or list\n",
    "int(): converts a string or number to an integer\n",
    "float(): converts a string or number to a floating-point number\n",
    "str(): converts an object to a string\n",
    "range(): generates a range of numbers\n",
    "sum(): returns the sum of a list of numbers\n",
    "type(): returns the data type of an object\n",
    "sorted(): returns a sorted list from an iterable object"
   ]
  },
  {
   "cell_type": "code",
   "execution_count": null,
   "id": "36e96e60",
   "metadata": {},
   "outputs": [],
   "source": [
    "12.What is the maximum possible length of an identifier in Python?\n",
    "Ans:\n",
    "In Python, there is no specified maximum length for an identifier, and it can be of any length. However, there is a limit to the amount of memory that a program can use, so there is an implicit limit on the length of an identifier. The maximum length is determined by the amount of memory available and the size of the data type used to store the identifier, so it can vary from system to system"
   ]
  },
  {
   "cell_type": "code",
   "execution_count": null,
   "id": "659ddb5f",
   "metadata": {},
   "outputs": [],
   "source": [
    "13.What are the benefits of using Python?\n",
    "Ans:-\n",
    "    There are many benefits to using Python, including:\n",
    "\n",
    "1.Easy to Learn: Python has a simple and straightforward syntax, making it an easy language to learn and use.\n",
    "\n",
    "2.Versatile\n",
    "\n",
    "3.Large Community\n",
    "\n",
    "4.Large Standard Library\n",
    "\n",
    "5.Dynamic Typing\n",
    "\n",
    "6.Interoperable\n",
    "\n",
    "7.High-Level Language\n"
   ]
  },
  {
   "cell_type": "code",
   "execution_count": null,
   "id": "e5dbe7b4",
   "metadata": {},
   "outputs": [],
   "source": [
    "14.How is memory managed in Python?\n",
    "Ans:-\n",
    "In Python, memory management is handled by the Python memory manager and the underlying operating system. The Python memory manager is responsible for managing the memory used by Python objects, while the operating system is responsible for allocating and deallocating physical memory.\n",
    "\n",
    "Python uses a private heap to manage memory, which is a space of memory used to store objects. When an object is created, memory is allocated on the private heap, and when the object is no longer in use, the memory is automatically freed. The Python memory manager automatically keeps track of all objects in the heap and performs garbage collection to reclaim memory that is no longer in use."
   ]
  },
  {
   "cell_type": "code",
   "execution_count": null,
   "id": "6f71239d",
   "metadata": {},
   "outputs": [],
   "source": [
    "15.How to install Python on Windows and set path variables?\n",
    "Ans:-\n",
    "Here are the steps to install Python on Windows and set the path variables:\n",
    "\n",
    "Download the Python installer: Go to the Python website (https://www.python.org/downloads/) and download the latest version of Python for Windows.\n",
    "\n",
    "Run the Installer: Double-click the installer file to start the installation process. Follow the on-screen instructions to complete the installation.\n",
    "\n",
    "Set the Path Variable: After the installation is complete, you need to set the path variable so that you can run Python from any directory in the Command Prompt.\n",
    "\n",
    "To set the path variable, follow these steps:\n",
    "a. Right-click on the Start button and select System.\n",
    "b. Click on Advanced system settings.\n",
    "c. In the System Properties window, click on the Environment Variables button.\n",
    "d. In the Environment Variables window, scroll down to the System Variables section and find the Path variable.\n",
    "e. Click on the Path variable, and then click the Edit button.\n",
    "f. In the Edit environment variable window, click the New button and add the path to the Python installation, typically C:\\PythonXX\\, where XX is the version number of Python installed.\n",
    "g. Click OK to close all windows and apply the changes.\n",
    "\n",
    "Verify the Installation: To verify the installation, open the Command Prompt and type python to start the Python REPL. You should see the Python prompt, which indicates that Python is installed and working correctly.\n",
    "\n",
    "Now, you can use Python on Windows by simply opening the Command Prompt and running the python command. You can also use Python to run Python scripts by specifying the script name after the python command."
   ]
  },
  {
   "cell_type": "code",
   "execution_count": null,
   "id": "b8fcf786",
   "metadata": {},
   "outputs": [],
   "source": [
    "16.Is indentation required in python?\n",
    "Ans:\n",
    "    Yes, indentation is required in Python. Indentation is used to indicate the structure of the code and to delimit blocks of code, such as loops, function definitions, and conditional statements. In Python, indentation is used instead of braces or other symbols that are used in other programming languages to delimit blocks of code.\n",
    "\n",
    "For example, a for loop in Python is written like this:\n",
    "    for i in range(10):\n",
    "    print(i)"
   ]
  },
  {
   "cell_type": "markdown",
   "id": "44fc12e9",
   "metadata": {},
   "source": []
  }
 ],
 "metadata": {
  "kernelspec": {
   "display_name": "Python 3 (ipykernel)",
   "language": "python",
   "name": "python3"
  },
  "language_info": {
   "codemirror_mode": {
    "name": "ipython",
    "version": 3
   },
   "file_extension": ".py",
   "mimetype": "text/x-python",
   "name": "python",
   "nbconvert_exporter": "python",
   "pygments_lexer": "ipython3",
   "version": "3.10.8"
  }
 },
 "nbformat": 4,
 "nbformat_minor": 5
}
