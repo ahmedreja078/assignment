{
 "cells": [
  {
   "cell_type": "markdown",
   "id": "3157aafb",
   "metadata": {},
   "source": [
    "- Q1. Explain why we have to use the Exception class while creating a Custom Exception."
   ]
  },
  {
   "cell_type": "markdown",
   "id": "5dcf81f0",
   "metadata": {},
   "source": [
    "n Python, when creating a custom exception, we typically create a new class that inherits from the base Exception class or one of its subclasses. Here's an example of how to define a custom exception:"
   ]
  },
  {
   "cell_type": "code",
   "execution_count": 2,
   "id": "604695af",
   "metadata": {},
   "outputs": [],
   "source": [
    "class CustomException(Exception):\n",
    "    pass"
   ]
  },
  {
   "cell_type": "markdown",
   "id": "f99ccf0d",
   "metadata": {},
   "source": [
    "The reason we use the Exception class as the base class for our custom exception is that it provides a lot of useful functionality for handling and raising exceptions. Some of the benefits of using the Exception class as the base class include:"
   ]
  },
  {
   "cell_type": "markdown",
   "id": "7cfc6dec",
   "metadata": {},
   "source": [
    "Consistent behavior with built-in exceptions: \n",
    "By inheriting from the Exception class, our custom exception will behave in a consistent way with other built-in exceptions. This means that we can use the same techniques for catching and handling our custom exception as we would for any other exception.\n",
    "\n",
    "Inheritance of exception handling methods: \n",
    "The Exception class provides a number of methods that can be used to handle exceptions, such as __str__ and __repr__. By inheriting from the Exception class, our custom exception will automatically inherit these methods, which can save us a lot of time and effort in implementing our own exception handling.\n",
    "\n",
    "Clear separation of custom and built-in exceptions: \n",
    "By defining a custom exception as a subclass of Exception, we make it clear that this is an exception that we've defined ourselves, rather than one of the built-in exceptions provided by Python. This can help us to organize our code and make it more readable and maintainable."
   ]
  },
  {
   "cell_type": "markdown",
   "id": "d2a884e2",
   "metadata": {},
   "source": [
    "- Q2. Write a python program to print Python Exception Hierarchy."
   ]
  },
  {
   "cell_type": "code",
   "execution_count": 3,
   "id": "223017a5",
   "metadata": {},
   "outputs": [
    {
     "name": "stdout",
     "output_type": "stream",
     "text": [
      "\n",
      "CustomException:\n",
      "    Exception\n",
      "        BaseException\n",
      "        object"
     ]
    }
   ],
   "source": [
    "class ExceptionHierarchy:\n",
    "    pass\n",
    "built_in_exceptions = [obj for obj in globals().values() if isinstance(obj, type) and issubclass(obj, BaseException)]\n",
    "\n",
    "for exc_class in built_in_exceptions:\n",
    "    print(f\"\\n{exc_class.__name__}:\", end=\"\")\n",
    "    for parent_class in exc_class.__bases__:\n",
    "        print(f\"\\n{' ' * 4}{parent_class.__name__}\", end=\"\")\n",
    "        while parent_class.__bases__:\n",
    "            parent_class = parent_class.__bases__[0]\n",
    "            print(f\"\\n{' ' * 8}{parent_class.__name__}\", end=\"\")\n"
   ]
  },
  {
   "cell_type": "markdown",
   "id": "4316d1d8",
   "metadata": {},
   "source": [
    "- Q3. What errors are defined in the ArithmeticError class? Explain any two with an example."
   ]
  },
  {
   "cell_type": "markdown",
   "id": "1f77ebdb",
   "metadata": {},
   "source": [
    "The ArithmeticError class is a built-in exception class in Python that is used to handle errors that occur during arithmetic operations. It is a subclass of the Exception class and is itself the parent class of several other exception classes that are used to handle specific types of arithmetic errors.\n",
    "\n",
    "Some of the exceptions that are defined in the ArithmeticError class include:\n"
   ]
  },
  {
   "cell_type": "code",
   "execution_count": 4,
   "id": "9a1391b2",
   "metadata": {},
   "outputs": [
    {
     "ename": "ZeroDivisionError",
     "evalue": "division by zero",
     "output_type": "error",
     "traceback": [
      "\u001b[1;31m---------------------------------------------------------------------------\u001b[0m",
      "\u001b[1;31mZeroDivisionError\u001b[0m                         Traceback (most recent call last)",
      "Cell \u001b[1;32mIn[4], line 4\u001b[0m\n\u001b[0;32m      2\u001b[0m x \u001b[38;5;241m=\u001b[39m \u001b[38;5;241m10\u001b[39m\n\u001b[0;32m      3\u001b[0m y \u001b[38;5;241m=\u001b[39m \u001b[38;5;241m0\u001b[39m\n\u001b[1;32m----> 4\u001b[0m z \u001b[38;5;241m=\u001b[39m \u001b[43mx\u001b[49m\u001b[43m \u001b[49m\u001b[38;5;241;43m/\u001b[39;49m\u001b[43m \u001b[49m\u001b[43my\u001b[49m  \n",
      "\u001b[1;31mZeroDivisionError\u001b[0m: division by zero"
     ]
    }
   ],
   "source": [
    "#ZeroDivisionError\n",
    "x = 10\n",
    "y = 0\n",
    "z = x / y  "
   ]
  },
  {
   "cell_type": "code",
   "execution_count": 8,
   "id": "e61993cc",
   "metadata": {},
   "outputs": [],
   "source": [
    "#OverflowError\n",
    "x = 2 ** 10000\n",
    "y = x ** 22222"
   ]
  },
  {
   "cell_type": "markdown",
   "id": "2c9ba93e",
   "metadata": {},
   "source": [
    "- Q4. Why LookupError class is used? Explain with an example KeyError and IndexError."
   ]
  },
  {
   "cell_type": "markdown",
   "id": "f2746c83",
   "metadata": {},
   "source": [
    "The LookupError class is a built-in exception class in Python that is used to handle errors that occur when trying to look up a value in a sequence or mapping. It is a subclass of the Exception class and is itself the parent class of several other exception classes that are used to handle specific types of lookup errors."
   ]
  },
  {
   "cell_type": "code",
   "execution_count": 14,
   "id": "fd625570",
   "metadata": {},
   "outputs": [
    {
     "ename": "KeyError",
     "evalue": "'orange'",
     "output_type": "error",
     "traceback": [
      "\u001b[1;31m---------------------------------------------------------------------------\u001b[0m",
      "\u001b[1;31mKeyError\u001b[0m                                  Traceback (most recent call last)",
      "Cell \u001b[1;32mIn[14], line 3\u001b[0m\n\u001b[0;32m      1\u001b[0m \u001b[38;5;66;03m#KeyError\u001b[39;00m\n\u001b[0;32m      2\u001b[0m d \u001b[38;5;241m=\u001b[39m {\u001b[38;5;124m\"\u001b[39m\u001b[38;5;124mapple\u001b[39m\u001b[38;5;124m\"\u001b[39m: \u001b[38;5;241m2\u001b[39m, \u001b[38;5;124m\"\u001b[39m\u001b[38;5;124mbanana\u001b[39m\u001b[38;5;124m\"\u001b[39m: \u001b[38;5;241m3\u001b[39m}\n\u001b[1;32m----> 3\u001b[0m value \u001b[38;5;241m=\u001b[39m \u001b[43md\u001b[49m\u001b[43m[\u001b[49m\u001b[38;5;124;43m\"\u001b[39;49m\u001b[38;5;124;43morange\u001b[39;49m\u001b[38;5;124;43m\"\u001b[39;49m\u001b[43m]\u001b[49m\n\u001b[0;32m      4\u001b[0m \u001b[38;5;124;03m'''try:\u001b[39;00m\n\u001b[0;32m      5\u001b[0m \u001b[38;5;124;03m    d = {\"apple\": 2, \"banana\": 3}\u001b[39;00m\n\u001b[0;32m      6\u001b[0m \u001b[38;5;124;03m    value = d[\"orange\"]\u001b[39;00m\n\u001b[0;32m      7\u001b[0m \u001b[38;5;124;03mexcept KeyError as e:\u001b[39;00m\n\u001b[0;32m      8\u001b[0m \u001b[38;5;124;03m    print(e)'''\u001b[39;00m\n",
      "\u001b[1;31mKeyError\u001b[0m: 'orange'"
     ]
    }
   ],
   "source": [
    "#KeyError\n",
    "d = {\"apple\": 2, \"banana\": 3}\n",
    "value = d[\"orange\"]\n",
    "\n",
    "'''try:\n",
    "    d = {\"apple\": 2, \"banana\": 3}\n",
    "    value = d[\"orange\"]\n",
    "except KeyError as e:\n",
    "    print(e)'''"
   ]
  },
  {
   "cell_type": "code",
   "execution_count": 15,
   "id": "0cc1ad26",
   "metadata": {},
   "outputs": [
    {
     "ename": "IndexError",
     "evalue": "list index out of range",
     "output_type": "error",
     "traceback": [
      "\u001b[1;31m---------------------------------------------------------------------------\u001b[0m",
      "\u001b[1;31mIndexError\u001b[0m                                Traceback (most recent call last)",
      "Cell \u001b[1;32mIn[15], line 3\u001b[0m\n\u001b[0;32m      1\u001b[0m \u001b[38;5;66;03m#IndexError\u001b[39;00m\n\u001b[0;32m      2\u001b[0m lst \u001b[38;5;241m=\u001b[39m [\u001b[38;5;241m1\u001b[39m, \u001b[38;5;241m2\u001b[39m, \u001b[38;5;241m3\u001b[39m]\n\u001b[1;32m----> 3\u001b[0m value \u001b[38;5;241m=\u001b[39m \u001b[43mlst\u001b[49m\u001b[43m[\u001b[49m\u001b[38;5;241;43m3\u001b[39;49m\u001b[43m]\u001b[49m \n",
      "\u001b[1;31mIndexError\u001b[0m: list index out of range"
     ]
    }
   ],
   "source": [
    "#IndexError\n",
    "lst = [1, 2, 3]\n",
    "value = lst[3] "
   ]
  },
  {
   "cell_type": "markdown",
   "id": "6c8bed2d",
   "metadata": {},
   "source": [
    "- Q5. Explain ImportError. What is ModuleNotFoundError?"
   ]
  },
  {
   "cell_type": "markdown",
   "id": "350d48b1",
   "metadata": {},
   "source": [
    "ImportError is a built-in exception in Python that is raised when a module, package, or object cannot be imported. This can happen for several reasons, such as the module not existing, the module being improperly installed, or the module containing syntax errors.\n",
    "\n",
    "For example, consider the followin"
   ]
  },
  {
   "cell_type": "code",
   "execution_count": 17,
   "id": "f5fb6c78",
   "metadata": {},
   "outputs": [
    {
     "name": "stdout",
     "output_type": "stream",
     "text": [
      "Could not import missing_module\n"
     ]
    }
   ],
   "source": [
    "try:\n",
    "    import missing_module\n",
    "except ImportError:\n",
    "    print(\"Could not import missing_module\")"
   ]
  },
  {
   "cell_type": "markdown",
   "id": "a61aa19e",
   "metadata": {},
   "source": [
    "Starting from Python 3.6, a new exception ModuleNotFoundError was added. It is a subclass of ImportError and is raised when a module or package is not found during an import.\n",
    "\n",
    "For example, consider the following code:"
   ]
  },
  {
   "cell_type": "code",
   "execution_count": 18,
   "id": "e4b9a68d",
   "metadata": {},
   "outputs": [
    {
     "name": "stdout",
     "output_type": "stream",
     "text": [
      "Could not find missing_module\n"
     ]
    }
   ],
   "source": [
    "try:\n",
    "    import missing_module\n",
    "except ModuleNotFoundError:\n",
    "    print(\"Could not find missing_module\")"
   ]
  },
  {
   "cell_type": "markdown",
   "id": "27195a2e",
   "metadata": {},
   "source": [
    "In general, it's a good idea to use ModuleNotFoundError instead of ImportError when you're specifically looking for a missing module, as this provides more specific and informative error messages to the user. However, if you want to catch all types of import errors, including missing modules and other issues, you can use ImportError instead."
   ]
  },
  {
   "cell_type": "markdown",
   "id": "b1ab94b8",
   "metadata": {},
   "source": [
    "- Q6. List down some best practices for exception handling in python."
   ]
  },
  {
   "cell_type": "markdown",
   "id": "b51c53aa",
   "metadata": {},
   "source": [
    "Here are some best practices for exception handling in Python:\n",
    "\n",
    "1.Only catch exceptions that you can handle: Catching exceptions that you can't handle can hide bugs in your code or make it harder to diagnose issues. Only catch exceptions that you know how to handle, and let others propagate up the call stack.\n",
    "\n",
    "2.Be specific when catching exceptions: Catching a broad exception like Exception or BaseException can make it hard to determine the root cause of an error. Instead, catch specific exceptions that you know your code might raise, and use multiple except blocks if necessary.\n",
    "\n",
    "3.Use finally blocks for cleanup: If you need to perform some cleanup code, such as closing files or network connections, use a finally block to ensure that the code is always executed, regardless of whether an exception is raised.\n",
    "\n",
    "4.Keep error messages clear and informative: When catching an exception, provide clear and informative error messages to the user. This can help them diagnose and fix issues more quickly.\n",
    "\n",
    "5.Avoid catching and re-raising the same exception: If you catch an exception but can't handle it, avoid simply re-raising the same exception. This can make it harder to diagnose issues and can introduce unnecessary complexity in your code."
   ]
  },
  {
   "cell_type": "code",
   "execution_count": null,
   "id": "860ef276",
   "metadata": {},
   "outputs": [],
   "source": []
  }
 ],
 "metadata": {
  "kernelspec": {
   "display_name": "Python 3 (ipykernel)",
   "language": "python",
   "name": "python3"
  },
  "language_info": {
   "codemirror_mode": {
    "name": "ipython",
    "version": 3
   },
   "file_extension": ".py",
   "mimetype": "text/x-python",
   "name": "python",
   "nbconvert_exporter": "python",
   "pygments_lexer": "ipython3",
   "version": "3.10.8"
  }
 },
 "nbformat": 4,
 "nbformat_minor": 5
}
